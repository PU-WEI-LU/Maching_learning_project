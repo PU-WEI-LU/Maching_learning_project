{
  "nbformat": 4,
  "nbformat_minor": 0,
  "metadata": {
    "colab": {
      "provenance": [],
      "authorship_tag": "ABX9TyO0hAK6fKVq5UgtOviXj0ou",
      "include_colab_link": true
    },
    "kernelspec": {
      "name": "python3",
      "display_name": "Python 3"
    },
    "language_info": {
      "name": "python"
    }
  },
  "cells": [
    {
      "cell_type": "markdown",
      "metadata": {
        "id": "view-in-github",
        "colab_type": "text"
      },
      "source": [
        "<a href=\"https://colab.research.google.com/github/PU-WEI-LU/Maching_learning_project/blob/main/Restaurant_Reviews.ipynb\" target=\"_parent\"><img src=\"https://colab.research.google.com/assets/colab-badge.svg\" alt=\"Open In Colab\"/></a>"
      ]
    },
    {
      "cell_type": "markdown",
      "source": [
        "# Natural Language Processing"
      ],
      "metadata": {
        "id": "ZAg35iEoZTfp"
      }
    },
    {
      "cell_type": "code",
      "source": [
        "from google.colab import drive\n",
        "drive.mount(\"/content/drive\")"
      ],
      "metadata": {
        "colab": {
          "base_uri": "https://localhost:8080/"
        },
        "id": "PDRcIamcZgOk",
        "outputId": "164731be-3a56-4797-e083-6ceb0e2153da"
      },
      "execution_count": null,
      "outputs": [
        {
          "output_type": "stream",
          "name": "stdout",
          "text": [
            "Drive already mounted at /content/drive; to attempt to forcibly remount, call drive.mount(\"/content/drive\", force_remount=True).\n"
          ]
        }
      ]
    },
    {
      "cell_type": "code",
      "source": [
        "import numpy as np\n",
        "import matplotlib.pyplot as plt\n",
        "import pandas as pd"
      ],
      "metadata": {
        "id": "FbWD0oRDZksS"
      },
      "execution_count": null,
      "outputs": []
    },
    {
      "cell_type": "code",
      "source": [
        "# Importing the dataset\n",
        "dataset = pd.read_csv('/content/drive/MyDrive/求職專案資料/Restaurant_Reviews.tsv', delimiter = '\\t', quoting = 3)#quoting = 3 去除引號\n"
      ],
      "metadata": {
        "id": "Ynyg4PKcZkP1"
      },
      "execution_count": null,
      "outputs": []
    },
    {
      "cell_type": "code",
      "source": [
        "# Cleaning the texts\n",
        "import re\n",
        "import nltk\n",
        "nltk.download('stopwords')\n",
        "from nltk.corpus import stopwords\n",
        "#匯入詞根函數(將動詞時態變回原型)\n",
        "from nltk.stem.porter import PorterStemmer\n",
        "#簡化後的reviews\n",
        "corpus = []\n",
        "for i in range(0, 1000):\n",
        "    #只留a-zA-Z 文字，再用空白取代\n",
        "    review = re.sub('[^a-zA-Z]', ' ', dataset['Review'][i]) #col=Review row=i\n",
        "    #將所有字串變小寫\n",
        "    review = review.lower()  \n",
        "    review = review.split()\n",
        "    ps = PorterStemmer()\n",
        "    #將review中每列的虛詞刪除形成新的list\n",
        "    #set會加快運算數度\n",
        "    review = [ps.stem(word) for word in review if not word in set(stopwords.words('english'))]\n",
        "    #將list轉乘str且將逗號改成' '\n",
        "    review = ' '.join(review)\n",
        "    corpus.append(review)"
      ],
      "metadata": {
        "colab": {
          "base_uri": "https://localhost:8080/"
        },
        "id": "m6dHyFXJZ--G",
        "outputId": "d5c04488-7812-4960-a31b-c66f8a5f899c"
      },
      "execution_count": null,
      "outputs": [
        {
          "output_type": "stream",
          "name": "stderr",
          "text": [
            "[nltk_data] Downloading package stopwords to /root/nltk_data...\n",
            "[nltk_data]   Package stopwords is already up-to-date!\n"
          ]
        }
      ]
    },
    {
      "cell_type": "code",
      "source": [
        "# Creating the Bag of Words model\n",
        "#建立稀疏矩陣\n",
        "from sklearn.feature_extraction.text import CountVectorizer\n",
        "#將1000則評論中，用到的1565個詞變成1500個，有些不常用到的詞無助於機器學習\n",
        "cv = CountVectorizer(max_features = 1500)\n",
        "#將str轉成矩陣\n",
        "X = cv.fit_transform(corpus).toarray() #(評論數,字根數量)\n",
        "#建立應變數\n",
        "y = dataset.iloc[:, 1].values"
      ],
      "metadata": {
        "id": "9m_NiweuZ_Zh"
      },
      "execution_count": null,
      "outputs": []
    },
    {
      "cell_type": "code",
      "source": [
        "# Splitting the dataset into the Training set and Test set\n",
        "from sklearn.model_selection import train_test_split\n",
        "X_train, X_test, y_train, y_test = train_test_split(X, y, test_size = 0.20, random_state = 0)"
      ],
      "metadata": {
        "id": "vE99hamJaAtg"
      },
      "execution_count": null,
      "outputs": []
    },
    {
      "cell_type": "code",
      "source": [
        "# Fitting Naive Bayes to the Training set\n",
        "from sklearn.naive_bayes import GaussianNB\n",
        "classifier = GaussianNB()\n",
        "classifier.fit(X_train, y_train)\n"
      ],
      "metadata": {
        "colab": {
          "base_uri": "https://localhost:8080/"
        },
        "id": "jH104uMCaCHs",
        "outputId": "db741aff-0e7e-4c7f-ab02-442dc5405d5d"
      },
      "execution_count": null,
      "outputs": [
        {
          "output_type": "execute_result",
          "data": {
            "text/plain": [
              "GaussianNB()"
            ]
          },
          "metadata": {},
          "execution_count": 16
        }
      ]
    },
    {
      "cell_type": "code",
      "source": [
        "# Predicting the Test set results\n",
        "y_pred = classifier.predict(X_test)"
      ],
      "metadata": {
        "id": "Prymh10baEdK"
      },
      "execution_count": null,
      "outputs": []
    },
    {
      "cell_type": "code",
      "source": [
        "# Making the Confusion Matrix\n",
        "from sklearn import metrics\n",
        "cnf_matrix = metrics.confusion_matrix(y_test, y_pred)\n",
        "print(cnf_matrix)\n",
        "print(\"Accuracy:\",metrics.accuracy_score(y_test, y_pred))"
      ],
      "metadata": {
        "colab": {
          "base_uri": "https://localhost:8080/"
        },
        "id": "QoL_FmmuaFpF",
        "outputId": "822f5230-3a42-4366-fc87-1c7326fe6a7b"
      },
      "execution_count": null,
      "outputs": [
        {
          "output_type": "stream",
          "name": "stdout",
          "text": [
            "[[55 42]\n",
            " [12 91]]\n",
            "Accuracy: 0.73\n"
          ]
        }
      ]
    }
  ]
}