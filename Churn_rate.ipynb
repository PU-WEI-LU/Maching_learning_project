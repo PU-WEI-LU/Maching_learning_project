{
  "nbformat": 4,
  "nbformat_minor": 0,
  "metadata": {
    "colab": {
      "provenance": [],
      "mount_file_id": "1EQSU2WdTLfG6jVzZ8MS6IoAyNNdetTpY",
      "authorship_tag": "ABX9TyORs3WLNxlonDIV1DcllREv",
      "include_colab_link": true
    },
    "kernelspec": {
      "name": "python3",
      "display_name": "Python 3"
    },
    "language_info": {
      "name": "python"
    }
  },
  "cells": [
    {
      "cell_type": "markdown",
      "metadata": {
        "id": "view-in-github",
        "colab_type": "text"
      },
      "source": [
        "<a href=\"https://colab.research.google.com/github/PU-WEI-LU/Maching_learning_project/blob/main/Churn_rate.ipynb\" target=\"_parent\"><img src=\"https://colab.research.google.com/assets/colab-badge.svg\" alt=\"Open In Colab\"/></a>"
      ]
    },
    {
      "cell_type": "markdown",
      "source": [
        "#Importing the dataset"
      ],
      "metadata": {
        "id": "toOsjbo5kts8"
      }
    },
    {
      "cell_type": "code",
      "execution_count": null,
      "metadata": {
        "id": "cKA0tRCqLmfJ",
        "colab": {
          "base_uri": "https://localhost:8080/"
        },
        "outputId": "5bf177d2-8d37-4ae1-ddb1-d0e2e234d221"
      },
      "outputs": [
        {
          "output_type": "stream",
          "name": "stdout",
          "text": [
            "Drive already mounted at /content/drive; to attempt to forcibly remount, call drive.mount(\"/content/drive\", force_remount=True).\n"
          ]
        }
      ],
      "source": [
        "from google.colab import drive\n",
        "drive.mount(\"/content/drive\")"
      ]
    },
    {
      "cell_type": "code",
      "source": [
        "import numpy as np\n",
        "import matplotlib.pyplot as plt\n",
        "import pandas as pd"
      ],
      "metadata": {
        "id": "S-cDkYTmQk9s"
      },
      "execution_count": null,
      "outputs": []
    },
    {
      "cell_type": "code",
      "source": [
        "dataset = pd.read_csv('/content/drive/MyDrive/求職專案資料/Churn_Modelling.csv')"
      ],
      "metadata": {
        "id": "G2xfmt0HPxFC"
      },
      "execution_count": null,
      "outputs": []
    },
    {
      "cell_type": "code",
      "source": [
        "dataset.head()"
      ],
      "metadata": {
        "colab": {
          "base_uri": "https://localhost:8080/",
          "height": 206
        },
        "id": "5mO30LGdVPyL",
        "outputId": "b1382c98-56e9-490e-acc9-1c9416fccc8d"
      },
      "execution_count": null,
      "outputs": [
        {
          "output_type": "execute_result",
          "data": {
            "text/plain": [
              "   RowNumber  CustomerId   Surname  CreditScore Geography  Gender  Age  \\\n",
              "0          1    15634602  Hargrave          619    France  Female   42   \n",
              "1          2    15647311      Hill          608     Spain  Female   41   \n",
              "2          3    15619304      Onio          502    France  Female   42   \n",
              "3          4    15701354      Boni          699    France  Female   39   \n",
              "4          5    15737888  Mitchell          850     Spain  Female   43   \n",
              "\n",
              "   Tenure    Balance  NumOfProducts  HasCrCard  IsActiveMember  \\\n",
              "0       2       0.00              1          1               1   \n",
              "1       1   83807.86              1          0               1   \n",
              "2       8  159660.80              3          1               0   \n",
              "3       1       0.00              2          0               0   \n",
              "4       2  125510.82              1          1               1   \n",
              "\n",
              "   EstimatedSalary  Exited  \n",
              "0        101348.88       1  \n",
              "1        112542.58       0  \n",
              "2        113931.57       1  \n",
              "3         93826.63       0  \n",
              "4         79084.10       0  "
            ],
            "text/html": [
              "\n",
              "  <div id=\"df-1dc4e736-a120-468d-b5de-6a0492444c70\">\n",
              "    <div class=\"colab-df-container\">\n",
              "      <div>\n",
              "<style scoped>\n",
              "    .dataframe tbody tr th:only-of-type {\n",
              "        vertical-align: middle;\n",
              "    }\n",
              "\n",
              "    .dataframe tbody tr th {\n",
              "        vertical-align: top;\n",
              "    }\n",
              "\n",
              "    .dataframe thead th {\n",
              "        text-align: right;\n",
              "    }\n",
              "</style>\n",
              "<table border=\"1\" class=\"dataframe\">\n",
              "  <thead>\n",
              "    <tr style=\"text-align: right;\">\n",
              "      <th></th>\n",
              "      <th>RowNumber</th>\n",
              "      <th>CustomerId</th>\n",
              "      <th>Surname</th>\n",
              "      <th>CreditScore</th>\n",
              "      <th>Geography</th>\n",
              "      <th>Gender</th>\n",
              "      <th>Age</th>\n",
              "      <th>Tenure</th>\n",
              "      <th>Balance</th>\n",
              "      <th>NumOfProducts</th>\n",
              "      <th>HasCrCard</th>\n",
              "      <th>IsActiveMember</th>\n",
              "      <th>EstimatedSalary</th>\n",
              "      <th>Exited</th>\n",
              "    </tr>\n",
              "  </thead>\n",
              "  <tbody>\n",
              "    <tr>\n",
              "      <th>0</th>\n",
              "      <td>1</td>\n",
              "      <td>15634602</td>\n",
              "      <td>Hargrave</td>\n",
              "      <td>619</td>\n",
              "      <td>France</td>\n",
              "      <td>Female</td>\n",
              "      <td>42</td>\n",
              "      <td>2</td>\n",
              "      <td>0.00</td>\n",
              "      <td>1</td>\n",
              "      <td>1</td>\n",
              "      <td>1</td>\n",
              "      <td>101348.88</td>\n",
              "      <td>1</td>\n",
              "    </tr>\n",
              "    <tr>\n",
              "      <th>1</th>\n",
              "      <td>2</td>\n",
              "      <td>15647311</td>\n",
              "      <td>Hill</td>\n",
              "      <td>608</td>\n",
              "      <td>Spain</td>\n",
              "      <td>Female</td>\n",
              "      <td>41</td>\n",
              "      <td>1</td>\n",
              "      <td>83807.86</td>\n",
              "      <td>1</td>\n",
              "      <td>0</td>\n",
              "      <td>1</td>\n",
              "      <td>112542.58</td>\n",
              "      <td>0</td>\n",
              "    </tr>\n",
              "    <tr>\n",
              "      <th>2</th>\n",
              "      <td>3</td>\n",
              "      <td>15619304</td>\n",
              "      <td>Onio</td>\n",
              "      <td>502</td>\n",
              "      <td>France</td>\n",
              "      <td>Female</td>\n",
              "      <td>42</td>\n",
              "      <td>8</td>\n",
              "      <td>159660.80</td>\n",
              "      <td>3</td>\n",
              "      <td>1</td>\n",
              "      <td>0</td>\n",
              "      <td>113931.57</td>\n",
              "      <td>1</td>\n",
              "    </tr>\n",
              "    <tr>\n",
              "      <th>3</th>\n",
              "      <td>4</td>\n",
              "      <td>15701354</td>\n",
              "      <td>Boni</td>\n",
              "      <td>699</td>\n",
              "      <td>France</td>\n",
              "      <td>Female</td>\n",
              "      <td>39</td>\n",
              "      <td>1</td>\n",
              "      <td>0.00</td>\n",
              "      <td>2</td>\n",
              "      <td>0</td>\n",
              "      <td>0</td>\n",
              "      <td>93826.63</td>\n",
              "      <td>0</td>\n",
              "    </tr>\n",
              "    <tr>\n",
              "      <th>4</th>\n",
              "      <td>5</td>\n",
              "      <td>15737888</td>\n",
              "      <td>Mitchell</td>\n",
              "      <td>850</td>\n",
              "      <td>Spain</td>\n",
              "      <td>Female</td>\n",
              "      <td>43</td>\n",
              "      <td>2</td>\n",
              "      <td>125510.82</td>\n",
              "      <td>1</td>\n",
              "      <td>1</td>\n",
              "      <td>1</td>\n",
              "      <td>79084.10</td>\n",
              "      <td>0</td>\n",
              "    </tr>\n",
              "  </tbody>\n",
              "</table>\n",
              "</div>\n",
              "      <button class=\"colab-df-convert\" onclick=\"convertToInteractive('df-1dc4e736-a120-468d-b5de-6a0492444c70')\"\n",
              "              title=\"Convert this dataframe to an interactive table.\"\n",
              "              style=\"display:none;\">\n",
              "        \n",
              "  <svg xmlns=\"http://www.w3.org/2000/svg\" height=\"24px\"viewBox=\"0 0 24 24\"\n",
              "       width=\"24px\">\n",
              "    <path d=\"M0 0h24v24H0V0z\" fill=\"none\"/>\n",
              "    <path d=\"M18.56 5.44l.94 2.06.94-2.06 2.06-.94-2.06-.94-.94-2.06-.94 2.06-2.06.94zm-11 1L8.5 8.5l.94-2.06 2.06-.94-2.06-.94L8.5 2.5l-.94 2.06-2.06.94zm10 10l.94 2.06.94-2.06 2.06-.94-2.06-.94-.94-2.06-.94 2.06-2.06.94z\"/><path d=\"M17.41 7.96l-1.37-1.37c-.4-.4-.92-.59-1.43-.59-.52 0-1.04.2-1.43.59L10.3 9.45l-7.72 7.72c-.78.78-.78 2.05 0 2.83L4 21.41c.39.39.9.59 1.41.59.51 0 1.02-.2 1.41-.59l7.78-7.78 2.81-2.81c.8-.78.8-2.07 0-2.86zM5.41 20L4 18.59l7.72-7.72 1.47 1.35L5.41 20z\"/>\n",
              "  </svg>\n",
              "      </button>\n",
              "      \n",
              "  <style>\n",
              "    .colab-df-container {\n",
              "      display:flex;\n",
              "      flex-wrap:wrap;\n",
              "      gap: 12px;\n",
              "    }\n",
              "\n",
              "    .colab-df-convert {\n",
              "      background-color: #E8F0FE;\n",
              "      border: none;\n",
              "      border-radius: 50%;\n",
              "      cursor: pointer;\n",
              "      display: none;\n",
              "      fill: #1967D2;\n",
              "      height: 32px;\n",
              "      padding: 0 0 0 0;\n",
              "      width: 32px;\n",
              "    }\n",
              "\n",
              "    .colab-df-convert:hover {\n",
              "      background-color: #E2EBFA;\n",
              "      box-shadow: 0px 1px 2px rgba(60, 64, 67, 0.3), 0px 1px 3px 1px rgba(60, 64, 67, 0.15);\n",
              "      fill: #174EA6;\n",
              "    }\n",
              "\n",
              "    [theme=dark] .colab-df-convert {\n",
              "      background-color: #3B4455;\n",
              "      fill: #D2E3FC;\n",
              "    }\n",
              "\n",
              "    [theme=dark] .colab-df-convert:hover {\n",
              "      background-color: #434B5C;\n",
              "      box-shadow: 0px 1px 3px 1px rgba(0, 0, 0, 0.15);\n",
              "      filter: drop-shadow(0px 1px 2px rgba(0, 0, 0, 0.3));\n",
              "      fill: #FFFFFF;\n",
              "    }\n",
              "  </style>\n",
              "\n",
              "      <script>\n",
              "        const buttonEl =\n",
              "          document.querySelector('#df-1dc4e736-a120-468d-b5de-6a0492444c70 button.colab-df-convert');\n",
              "        buttonEl.style.display =\n",
              "          google.colab.kernel.accessAllowed ? 'block' : 'none';\n",
              "\n",
              "        async function convertToInteractive(key) {\n",
              "          const element = document.querySelector('#df-1dc4e736-a120-468d-b5de-6a0492444c70');\n",
              "          const dataTable =\n",
              "            await google.colab.kernel.invokeFunction('convertToInteractive',\n",
              "                                                     [key], {});\n",
              "          if (!dataTable) return;\n",
              "\n",
              "          const docLinkHtml = 'Like what you see? Visit the ' +\n",
              "            '<a target=\"_blank\" href=https://colab.research.google.com/notebooks/data_table.ipynb>data table notebook</a>'\n",
              "            + ' to learn more about interactive tables.';\n",
              "          element.innerHTML = '';\n",
              "          dataTable['output_type'] = 'display_data';\n",
              "          await google.colab.output.renderOutput(dataTable, element);\n",
              "          const docLink = document.createElement('div');\n",
              "          docLink.innerHTML = docLinkHtml;\n",
              "          element.appendChild(docLink);\n",
              "        }\n",
              "      </script>\n",
              "    </div>\n",
              "  </div>\n",
              "  "
            ]
          },
          "metadata": {},
          "execution_count": 4
        }
      ]
    },
    {
      "cell_type": "markdown",
      "source": [],
      "metadata": {
        "id": "41IjhLyXVPV3"
      }
    },
    {
      "cell_type": "code",
      "source": [
        "dataset.info()"
      ],
      "metadata": {
        "id": "XAVB1bTlP8vx",
        "colab": {
          "base_uri": "https://localhost:8080/"
        },
        "outputId": "daa3f0d5-6c71-433a-daee-a7edf77b398f"
      },
      "execution_count": null,
      "outputs": [
        {
          "output_type": "stream",
          "name": "stdout",
          "text": [
            "<class 'pandas.core.frame.DataFrame'>\n",
            "RangeIndex: 10000 entries, 0 to 9999\n",
            "Data columns (total 14 columns):\n",
            " #   Column           Non-Null Count  Dtype  \n",
            "---  ------           --------------  -----  \n",
            " 0   RowNumber        10000 non-null  int64  \n",
            " 1   CustomerId       10000 non-null  int64  \n",
            " 2   Surname          10000 non-null  object \n",
            " 3   CreditScore      10000 non-null  int64  \n",
            " 4   Geography        10000 non-null  object \n",
            " 5   Gender           10000 non-null  object \n",
            " 6   Age              10000 non-null  int64  \n",
            " 7   Tenure           10000 non-null  int64  \n",
            " 8   Balance          10000 non-null  float64\n",
            " 9   NumOfProducts    10000 non-null  int64  \n",
            " 10  HasCrCard        10000 non-null  int64  \n",
            " 11  IsActiveMember   10000 non-null  int64  \n",
            " 12  EstimatedSalary  10000 non-null  float64\n",
            " 13  Exited           10000 non-null  int64  \n",
            "dtypes: float64(2), int64(9), object(3)\n",
            "memory usage: 1.1+ MB\n"
          ]
        }
      ]
    },
    {
      "cell_type": "code",
      "source": [
        "#Shape of the dataset (no of rows and no of columns)\n",
        "dataset.shape\n"
      ],
      "metadata": {
        "colab": {
          "base_uri": "https://localhost:8080/"
        },
        "id": "rpuV6kr8nDvP",
        "outputId": "3ceabee4-945a-41d7-ead9-24b4b18e7382"
      },
      "execution_count": null,
      "outputs": [
        {
          "output_type": "execute_result",
          "data": {
            "text/plain": [
              "(10000, 14)"
            ]
          },
          "metadata": {},
          "execution_count": 6
        }
      ]
    },
    {
      "cell_type": "code",
      "source": [
        "#Displaying the data type of the dataset attributes \n",
        "dataset.dtypes"
      ],
      "metadata": {
        "colab": {
          "base_uri": "https://localhost:8080/"
        },
        "id": "37sOTAKOnNNn",
        "outputId": "fe011269-b02c-45a4-d353-fa7d97978a33"
      },
      "execution_count": null,
      "outputs": [
        {
          "output_type": "execute_result",
          "data": {
            "text/plain": [
              "RowNumber            int64\n",
              "CustomerId           int64\n",
              "Surname             object\n",
              "CreditScore          int64\n",
              "Geography           object\n",
              "Gender              object\n",
              "Age                  int64\n",
              "Tenure               int64\n",
              "Balance            float64\n",
              "NumOfProducts        int64\n",
              "HasCrCard            int64\n",
              "IsActiveMember       int64\n",
              "EstimatedSalary    float64\n",
              "Exited               int64\n",
              "dtype: object"
            ]
          },
          "metadata": {},
          "execution_count": 7
        }
      ]
    },
    {
      "cell_type": "code",
      "source": [
        "# delete the same data\n",
        "dataset.drop_duplicates(inplace=True)\n",
        "dataset.shape"
      ],
      "metadata": {
        "colab": {
          "base_uri": "https://localhost:8080/"
        },
        "id": "zghvsSBhnOdP",
        "outputId": "f61eedf0-38ac-4e1d-84c1-263b99529af5"
      },
      "execution_count": null,
      "outputs": [
        {
          "output_type": "execute_result",
          "data": {
            "text/plain": [
              "(10000, 14)"
            ]
          },
          "metadata": {},
          "execution_count": 8
        }
      ]
    },
    {
      "cell_type": "code",
      "source": [
        "dataset.isna().sum()"
      ],
      "metadata": {
        "colab": {
          "base_uri": "https://localhost:8080/"
        },
        "id": "RkPhbS2EmrSb",
        "outputId": "c06a9c4b-9729-416d-e527-882c5e90a249"
      },
      "execution_count": null,
      "outputs": [
        {
          "output_type": "execute_result",
          "data": {
            "text/plain": [
              "RowNumber          0\n",
              "CustomerId         0\n",
              "Surname            0\n",
              "CreditScore        0\n",
              "Geography          0\n",
              "Gender             0\n",
              "Age                0\n",
              "Tenure             0\n",
              "Balance            0\n",
              "NumOfProducts      0\n",
              "HasCrCard          0\n",
              "IsActiveMember     0\n",
              "EstimatedSalary    0\n",
              "Exited             0\n",
              "dtype: int64"
            ]
          },
          "metadata": {},
          "execution_count": 9
        }
      ]
    },
    {
      "cell_type": "code",
      "source": [
        "dataset.describe().T"
      ],
      "metadata": {
        "colab": {
          "base_uri": "https://localhost:8080/",
          "height": 394
        },
        "id": "ppDy0_JOnY5V",
        "outputId": "2694d54c-a775-44b3-98cc-969d7628afba"
      },
      "execution_count": null,
      "outputs": [
        {
          "output_type": "execute_result",
          "data": {
            "text/plain": [
              "                   count          mean           std          min  \\\n",
              "RowNumber        10000.0  5.000500e+03   2886.895680         1.00   \n",
              "CustomerId       10000.0  1.569094e+07  71936.186123  15565701.00   \n",
              "CreditScore      10000.0  6.505288e+02     96.653299       350.00   \n",
              "Age              10000.0  3.892180e+01     10.487806        18.00   \n",
              "Tenure           10000.0  5.012800e+00      2.892174         0.00   \n",
              "Balance          10000.0  7.648589e+04  62397.405202         0.00   \n",
              "NumOfProducts    10000.0  1.530200e+00      0.581654         1.00   \n",
              "HasCrCard        10000.0  7.055000e-01      0.455840         0.00   \n",
              "IsActiveMember   10000.0  5.151000e-01      0.499797         0.00   \n",
              "EstimatedSalary  10000.0  1.000902e+05  57510.492818        11.58   \n",
              "Exited           10000.0  2.037000e-01      0.402769         0.00   \n",
              "\n",
              "                         25%           50%           75%          max  \n",
              "RowNumber            2500.75  5.000500e+03  7.500250e+03     10000.00  \n",
              "CustomerId       15628528.25  1.569074e+07  1.575323e+07  15815690.00  \n",
              "CreditScore           584.00  6.520000e+02  7.180000e+02       850.00  \n",
              "Age                    32.00  3.700000e+01  4.400000e+01        92.00  \n",
              "Tenure                  3.00  5.000000e+00  7.000000e+00        10.00  \n",
              "Balance                 0.00  9.719854e+04  1.276442e+05    250898.09  \n",
              "NumOfProducts           1.00  1.000000e+00  2.000000e+00         4.00  \n",
              "HasCrCard               0.00  1.000000e+00  1.000000e+00         1.00  \n",
              "IsActiveMember          0.00  1.000000e+00  1.000000e+00         1.00  \n",
              "EstimatedSalary     51002.11  1.001939e+05  1.493882e+05    199992.48  \n",
              "Exited                  0.00  0.000000e+00  0.000000e+00         1.00  "
            ],
            "text/html": [
              "\n",
              "  <div id=\"df-55ff0200-c3f0-491f-9719-9bcb236c0f42\">\n",
              "    <div class=\"colab-df-container\">\n",
              "      <div>\n",
              "<style scoped>\n",
              "    .dataframe tbody tr th:only-of-type {\n",
              "        vertical-align: middle;\n",
              "    }\n",
              "\n",
              "    .dataframe tbody tr th {\n",
              "        vertical-align: top;\n",
              "    }\n",
              "\n",
              "    .dataframe thead th {\n",
              "        text-align: right;\n",
              "    }\n",
              "</style>\n",
              "<table border=\"1\" class=\"dataframe\">\n",
              "  <thead>\n",
              "    <tr style=\"text-align: right;\">\n",
              "      <th></th>\n",
              "      <th>count</th>\n",
              "      <th>mean</th>\n",
              "      <th>std</th>\n",
              "      <th>min</th>\n",
              "      <th>25%</th>\n",
              "      <th>50%</th>\n",
              "      <th>75%</th>\n",
              "      <th>max</th>\n",
              "    </tr>\n",
              "  </thead>\n",
              "  <tbody>\n",
              "    <tr>\n",
              "      <th>RowNumber</th>\n",
              "      <td>10000.0</td>\n",
              "      <td>5.000500e+03</td>\n",
              "      <td>2886.895680</td>\n",
              "      <td>1.00</td>\n",
              "      <td>2500.75</td>\n",
              "      <td>5.000500e+03</td>\n",
              "      <td>7.500250e+03</td>\n",
              "      <td>10000.00</td>\n",
              "    </tr>\n",
              "    <tr>\n",
              "      <th>CustomerId</th>\n",
              "      <td>10000.0</td>\n",
              "      <td>1.569094e+07</td>\n",
              "      <td>71936.186123</td>\n",
              "      <td>15565701.00</td>\n",
              "      <td>15628528.25</td>\n",
              "      <td>1.569074e+07</td>\n",
              "      <td>1.575323e+07</td>\n",
              "      <td>15815690.00</td>\n",
              "    </tr>\n",
              "    <tr>\n",
              "      <th>CreditScore</th>\n",
              "      <td>10000.0</td>\n",
              "      <td>6.505288e+02</td>\n",
              "      <td>96.653299</td>\n",
              "      <td>350.00</td>\n",
              "      <td>584.00</td>\n",
              "      <td>6.520000e+02</td>\n",
              "      <td>7.180000e+02</td>\n",
              "      <td>850.00</td>\n",
              "    </tr>\n",
              "    <tr>\n",
              "      <th>Age</th>\n",
              "      <td>10000.0</td>\n",
              "      <td>3.892180e+01</td>\n",
              "      <td>10.487806</td>\n",
              "      <td>18.00</td>\n",
              "      <td>32.00</td>\n",
              "      <td>3.700000e+01</td>\n",
              "      <td>4.400000e+01</td>\n",
              "      <td>92.00</td>\n",
              "    </tr>\n",
              "    <tr>\n",
              "      <th>Tenure</th>\n",
              "      <td>10000.0</td>\n",
              "      <td>5.012800e+00</td>\n",
              "      <td>2.892174</td>\n",
              "      <td>0.00</td>\n",
              "      <td>3.00</td>\n",
              "      <td>5.000000e+00</td>\n",
              "      <td>7.000000e+00</td>\n",
              "      <td>10.00</td>\n",
              "    </tr>\n",
              "    <tr>\n",
              "      <th>Balance</th>\n",
              "      <td>10000.0</td>\n",
              "      <td>7.648589e+04</td>\n",
              "      <td>62397.405202</td>\n",
              "      <td>0.00</td>\n",
              "      <td>0.00</td>\n",
              "      <td>9.719854e+04</td>\n",
              "      <td>1.276442e+05</td>\n",
              "      <td>250898.09</td>\n",
              "    </tr>\n",
              "    <tr>\n",
              "      <th>NumOfProducts</th>\n",
              "      <td>10000.0</td>\n",
              "      <td>1.530200e+00</td>\n",
              "      <td>0.581654</td>\n",
              "      <td>1.00</td>\n",
              "      <td>1.00</td>\n",
              "      <td>1.000000e+00</td>\n",
              "      <td>2.000000e+00</td>\n",
              "      <td>4.00</td>\n",
              "    </tr>\n",
              "    <tr>\n",
              "      <th>HasCrCard</th>\n",
              "      <td>10000.0</td>\n",
              "      <td>7.055000e-01</td>\n",
              "      <td>0.455840</td>\n",
              "      <td>0.00</td>\n",
              "      <td>0.00</td>\n",
              "      <td>1.000000e+00</td>\n",
              "      <td>1.000000e+00</td>\n",
              "      <td>1.00</td>\n",
              "    </tr>\n",
              "    <tr>\n",
              "      <th>IsActiveMember</th>\n",
              "      <td>10000.0</td>\n",
              "      <td>5.151000e-01</td>\n",
              "      <td>0.499797</td>\n",
              "      <td>0.00</td>\n",
              "      <td>0.00</td>\n",
              "      <td>1.000000e+00</td>\n",
              "      <td>1.000000e+00</td>\n",
              "      <td>1.00</td>\n",
              "    </tr>\n",
              "    <tr>\n",
              "      <th>EstimatedSalary</th>\n",
              "      <td>10000.0</td>\n",
              "      <td>1.000902e+05</td>\n",
              "      <td>57510.492818</td>\n",
              "      <td>11.58</td>\n",
              "      <td>51002.11</td>\n",
              "      <td>1.001939e+05</td>\n",
              "      <td>1.493882e+05</td>\n",
              "      <td>199992.48</td>\n",
              "    </tr>\n",
              "    <tr>\n",
              "      <th>Exited</th>\n",
              "      <td>10000.0</td>\n",
              "      <td>2.037000e-01</td>\n",
              "      <td>0.402769</td>\n",
              "      <td>0.00</td>\n",
              "      <td>0.00</td>\n",
              "      <td>0.000000e+00</td>\n",
              "      <td>0.000000e+00</td>\n",
              "      <td>1.00</td>\n",
              "    </tr>\n",
              "  </tbody>\n",
              "</table>\n",
              "</div>\n",
              "      <button class=\"colab-df-convert\" onclick=\"convertToInteractive('df-55ff0200-c3f0-491f-9719-9bcb236c0f42')\"\n",
              "              title=\"Convert this dataframe to an interactive table.\"\n",
              "              style=\"display:none;\">\n",
              "        \n",
              "  <svg xmlns=\"http://www.w3.org/2000/svg\" height=\"24px\"viewBox=\"0 0 24 24\"\n",
              "       width=\"24px\">\n",
              "    <path d=\"M0 0h24v24H0V0z\" fill=\"none\"/>\n",
              "    <path d=\"M18.56 5.44l.94 2.06.94-2.06 2.06-.94-2.06-.94-.94-2.06-.94 2.06-2.06.94zm-11 1L8.5 8.5l.94-2.06 2.06-.94-2.06-.94L8.5 2.5l-.94 2.06-2.06.94zm10 10l.94 2.06.94-2.06 2.06-.94-2.06-.94-.94-2.06-.94 2.06-2.06.94z\"/><path d=\"M17.41 7.96l-1.37-1.37c-.4-.4-.92-.59-1.43-.59-.52 0-1.04.2-1.43.59L10.3 9.45l-7.72 7.72c-.78.78-.78 2.05 0 2.83L4 21.41c.39.39.9.59 1.41.59.51 0 1.02-.2 1.41-.59l7.78-7.78 2.81-2.81c.8-.78.8-2.07 0-2.86zM5.41 20L4 18.59l7.72-7.72 1.47 1.35L5.41 20z\"/>\n",
              "  </svg>\n",
              "      </button>\n",
              "      \n",
              "  <style>\n",
              "    .colab-df-container {\n",
              "      display:flex;\n",
              "      flex-wrap:wrap;\n",
              "      gap: 12px;\n",
              "    }\n",
              "\n",
              "    .colab-df-convert {\n",
              "      background-color: #E8F0FE;\n",
              "      border: none;\n",
              "      border-radius: 50%;\n",
              "      cursor: pointer;\n",
              "      display: none;\n",
              "      fill: #1967D2;\n",
              "      height: 32px;\n",
              "      padding: 0 0 0 0;\n",
              "      width: 32px;\n",
              "    }\n",
              "\n",
              "    .colab-df-convert:hover {\n",
              "      background-color: #E2EBFA;\n",
              "      box-shadow: 0px 1px 2px rgba(60, 64, 67, 0.3), 0px 1px 3px 1px rgba(60, 64, 67, 0.15);\n",
              "      fill: #174EA6;\n",
              "    }\n",
              "\n",
              "    [theme=dark] .colab-df-convert {\n",
              "      background-color: #3B4455;\n",
              "      fill: #D2E3FC;\n",
              "    }\n",
              "\n",
              "    [theme=dark] .colab-df-convert:hover {\n",
              "      background-color: #434B5C;\n",
              "      box-shadow: 0px 1px 3px 1px rgba(0, 0, 0, 0.15);\n",
              "      filter: drop-shadow(0px 1px 2px rgba(0, 0, 0, 0.3));\n",
              "      fill: #FFFFFF;\n",
              "    }\n",
              "  </style>\n",
              "\n",
              "      <script>\n",
              "        const buttonEl =\n",
              "          document.querySelector('#df-55ff0200-c3f0-491f-9719-9bcb236c0f42 button.colab-df-convert');\n",
              "        buttonEl.style.display =\n",
              "          google.colab.kernel.accessAllowed ? 'block' : 'none';\n",
              "\n",
              "        async function convertToInteractive(key) {\n",
              "          const element = document.querySelector('#df-55ff0200-c3f0-491f-9719-9bcb236c0f42');\n",
              "          const dataTable =\n",
              "            await google.colab.kernel.invokeFunction('convertToInteractive',\n",
              "                                                     [key], {});\n",
              "          if (!dataTable) return;\n",
              "\n",
              "          const docLinkHtml = 'Like what you see? Visit the ' +\n",
              "            '<a target=\"_blank\" href=https://colab.research.google.com/notebooks/data_table.ipynb>data table notebook</a>'\n",
              "            + ' to learn more about interactive tables.';\n",
              "          element.innerHTML = '';\n",
              "          dataTable['output_type'] = 'display_data';\n",
              "          await google.colab.output.renderOutput(dataTable, element);\n",
              "          const docLink = document.createElement('div');\n",
              "          docLink.innerHTML = docLinkHtml;\n",
              "          element.appendChild(docLink);\n",
              "        }\n",
              "      </script>\n",
              "    </div>\n",
              "  </div>\n",
              "  "
            ]
          },
          "metadata": {},
          "execution_count": 10
        }
      ]
    },
    {
      "cell_type": "markdown",
      "source": [
        "# Setting X and y"
      ],
      "metadata": {
        "id": "A72TSMOylTiI"
      }
    },
    {
      "cell_type": "code",
      "source": [
        "#X = dataset.iloc[:, 3:13]\n",
        "#y = dataset.iloc[:, 13]\n",
        "X = dataset\n",
        "X = X.drop([\"RowNumber\",\"Exited\",\"CustomerId\",\"Surname\"],axis=1)\n",
        "y = dataset[\"Exited\"]\n"
      ],
      "metadata": {
        "id": "ZiAYKswqQIv8"
      },
      "execution_count": null,
      "outputs": []
    },
    {
      "cell_type": "code",
      "source": [
        "print(X.head())\n",
        "print(y.head())"
      ],
      "metadata": {
        "colab": {
          "base_uri": "https://localhost:8080/"
        },
        "id": "XoiMtfX-imW0",
        "outputId": "a0d78c54-316d-4d66-b64d-db5422d63904"
      },
      "execution_count": null,
      "outputs": [
        {
          "output_type": "stream",
          "name": "stdout",
          "text": [
            "   CreditScore Geography  Gender  Age  Tenure    Balance  NumOfProducts  \\\n",
            "0          619    France  Female   42       2       0.00              1   \n",
            "1          608     Spain  Female   41       1   83807.86              1   \n",
            "2          502    France  Female   42       8  159660.80              3   \n",
            "3          699    France  Female   39       1       0.00              2   \n",
            "4          850     Spain  Female   43       2  125510.82              1   \n",
            "\n",
            "   HasCrCard  IsActiveMember  EstimatedSalary  \n",
            "0          1               1        101348.88  \n",
            "1          0               1        112542.58  \n",
            "2          1               0        113931.57  \n",
            "3          0               0         93826.63  \n",
            "4          1               1         79084.10  \n",
            "0    1\n",
            "1    0\n",
            "2    1\n",
            "3    0\n",
            "4    0\n",
            "Name: Exited, dtype: int64\n"
          ]
        }
      ]
    },
    {
      "cell_type": "markdown",
      "source": [
        "# Encoding categorical data"
      ],
      "metadata": {
        "id": "Yt_-mVugVqV_"
      }
    },
    {
      "cell_type": "code",
      "source": [
        "from sklearn.preprocessing import LabelEncoder, OneHotEncoder\n",
        "#labelencoder_X_1 = LabelEncoder()\n",
        "#X[\"Geography\"]= labelencoder_X_1.fit_transform(X[\"Geography\"])\n",
        "\n",
        "labelencoder_X_2 = LabelEncoder()\n",
        "X[\"Gender\"] = labelencoder_X_2.fit_transform(X[\"Gender\"])"
      ],
      "metadata": {
        "id": "kU89EgNjVp_l"
      },
      "execution_count": null,
      "outputs": []
    },
    {
      "cell_type": "code",
      "source": [
        "print(X[\"Geography\"])"
      ],
      "metadata": {
        "colab": {
          "base_uri": "https://localhost:8080/"
        },
        "id": "ypus7vbXmK9c",
        "outputId": "5f1ac516-e926-4445-aae8-5f5fd6bebc39"
      },
      "execution_count": null,
      "outputs": [
        {
          "output_type": "stream",
          "name": "stdout",
          "text": [
            "0        France\n",
            "1         Spain\n",
            "2        France\n",
            "3        France\n",
            "4         Spain\n",
            "         ...   \n",
            "9995     France\n",
            "9996     France\n",
            "9997     France\n",
            "9998    Germany\n",
            "9999     France\n",
            "Name: Geography, Length: 10000, dtype: object\n"
          ]
        }
      ]
    },
    {
      "cell_type": "code",
      "source": [
        "#使用getdummy 不需要labelencoder\n",
        "X= pd.get_dummies(data = X, columns = ['Geography'] , prefix = 'Geography' , drop_first = True)"
      ],
      "metadata": {
        "id": "9lFmdxlgsdqj"
      },
      "execution_count": null,
      "outputs": []
    },
    {
      "cell_type": "code",
      "source": [
        "#OneHotEncoder_to_X 如果使用這個將會把pd變成ndarray\n",
        "#from sklearn.compose import ColumnTransformer\n",
        "#onehotencoder = ColumnTransformer([(\"1\", OneHotEncoder(), [1])], remainder = 'passthrough')\n",
        "#remainder = 'passthrough'其他非類變數也要擷取\n",
        "#X = onehotencoder.fit_transform(X)\n",
        "#避免虛擬變數陷阱必須刪掉其中一COL\n",
        "#X = X[:, 1:]"
      ],
      "metadata": {
        "id": "tlnuufKiWRp-"
      },
      "execution_count": null,
      "outputs": []
    },
    {
      "cell_type": "code",
      "source": [
        "X.head()"
      ],
      "metadata": {
        "colab": {
          "base_uri": "https://localhost:8080/",
          "height": 206
        },
        "id": "wet5ZcOssqHg",
        "outputId": "73a2571b-f10b-408f-8655-56c1950b381f"
      },
      "execution_count": null,
      "outputs": [
        {
          "output_type": "execute_result",
          "data": {
            "text/plain": [
              "   CreditScore  Gender  Age  Tenure    Balance  NumOfProducts  HasCrCard  \\\n",
              "0          619       0   42       2       0.00              1          1   \n",
              "1          608       0   41       1   83807.86              1          0   \n",
              "2          502       0   42       8  159660.80              3          1   \n",
              "3          699       0   39       1       0.00              2          0   \n",
              "4          850       0   43       2  125510.82              1          1   \n",
              "\n",
              "   IsActiveMember  EstimatedSalary  Geography_Germany  Geography_Spain  \n",
              "0               1        101348.88                  0                0  \n",
              "1               1        112542.58                  0                1  \n",
              "2               0        113931.57                  0                0  \n",
              "3               0         93826.63                  0                0  \n",
              "4               1         79084.10                  0                1  "
            ],
            "text/html": [
              "\n",
              "  <div id=\"df-c3dcbcbd-3973-4c45-bbcd-861817fe1ba0\">\n",
              "    <div class=\"colab-df-container\">\n",
              "      <div>\n",
              "<style scoped>\n",
              "    .dataframe tbody tr th:only-of-type {\n",
              "        vertical-align: middle;\n",
              "    }\n",
              "\n",
              "    .dataframe tbody tr th {\n",
              "        vertical-align: top;\n",
              "    }\n",
              "\n",
              "    .dataframe thead th {\n",
              "        text-align: right;\n",
              "    }\n",
              "</style>\n",
              "<table border=\"1\" class=\"dataframe\">\n",
              "  <thead>\n",
              "    <tr style=\"text-align: right;\">\n",
              "      <th></th>\n",
              "      <th>CreditScore</th>\n",
              "      <th>Gender</th>\n",
              "      <th>Age</th>\n",
              "      <th>Tenure</th>\n",
              "      <th>Balance</th>\n",
              "      <th>NumOfProducts</th>\n",
              "      <th>HasCrCard</th>\n",
              "      <th>IsActiveMember</th>\n",
              "      <th>EstimatedSalary</th>\n",
              "      <th>Geography_Germany</th>\n",
              "      <th>Geography_Spain</th>\n",
              "    </tr>\n",
              "  </thead>\n",
              "  <tbody>\n",
              "    <tr>\n",
              "      <th>0</th>\n",
              "      <td>619</td>\n",
              "      <td>0</td>\n",
              "      <td>42</td>\n",
              "      <td>2</td>\n",
              "      <td>0.00</td>\n",
              "      <td>1</td>\n",
              "      <td>1</td>\n",
              "      <td>1</td>\n",
              "      <td>101348.88</td>\n",
              "      <td>0</td>\n",
              "      <td>0</td>\n",
              "    </tr>\n",
              "    <tr>\n",
              "      <th>1</th>\n",
              "      <td>608</td>\n",
              "      <td>0</td>\n",
              "      <td>41</td>\n",
              "      <td>1</td>\n",
              "      <td>83807.86</td>\n",
              "      <td>1</td>\n",
              "      <td>0</td>\n",
              "      <td>1</td>\n",
              "      <td>112542.58</td>\n",
              "      <td>0</td>\n",
              "      <td>1</td>\n",
              "    </tr>\n",
              "    <tr>\n",
              "      <th>2</th>\n",
              "      <td>502</td>\n",
              "      <td>0</td>\n",
              "      <td>42</td>\n",
              "      <td>8</td>\n",
              "      <td>159660.80</td>\n",
              "      <td>3</td>\n",
              "      <td>1</td>\n",
              "      <td>0</td>\n",
              "      <td>113931.57</td>\n",
              "      <td>0</td>\n",
              "      <td>0</td>\n",
              "    </tr>\n",
              "    <tr>\n",
              "      <th>3</th>\n",
              "      <td>699</td>\n",
              "      <td>0</td>\n",
              "      <td>39</td>\n",
              "      <td>1</td>\n",
              "      <td>0.00</td>\n",
              "      <td>2</td>\n",
              "      <td>0</td>\n",
              "      <td>0</td>\n",
              "      <td>93826.63</td>\n",
              "      <td>0</td>\n",
              "      <td>0</td>\n",
              "    </tr>\n",
              "    <tr>\n",
              "      <th>4</th>\n",
              "      <td>850</td>\n",
              "      <td>0</td>\n",
              "      <td>43</td>\n",
              "      <td>2</td>\n",
              "      <td>125510.82</td>\n",
              "      <td>1</td>\n",
              "      <td>1</td>\n",
              "      <td>1</td>\n",
              "      <td>79084.10</td>\n",
              "      <td>0</td>\n",
              "      <td>1</td>\n",
              "    </tr>\n",
              "  </tbody>\n",
              "</table>\n",
              "</div>\n",
              "      <button class=\"colab-df-convert\" onclick=\"convertToInteractive('df-c3dcbcbd-3973-4c45-bbcd-861817fe1ba0')\"\n",
              "              title=\"Convert this dataframe to an interactive table.\"\n",
              "              style=\"display:none;\">\n",
              "        \n",
              "  <svg xmlns=\"http://www.w3.org/2000/svg\" height=\"24px\"viewBox=\"0 0 24 24\"\n",
              "       width=\"24px\">\n",
              "    <path d=\"M0 0h24v24H0V0z\" fill=\"none\"/>\n",
              "    <path d=\"M18.56 5.44l.94 2.06.94-2.06 2.06-.94-2.06-.94-.94-2.06-.94 2.06-2.06.94zm-11 1L8.5 8.5l.94-2.06 2.06-.94-2.06-.94L8.5 2.5l-.94 2.06-2.06.94zm10 10l.94 2.06.94-2.06 2.06-.94-2.06-.94-.94-2.06-.94 2.06-2.06.94z\"/><path d=\"M17.41 7.96l-1.37-1.37c-.4-.4-.92-.59-1.43-.59-.52 0-1.04.2-1.43.59L10.3 9.45l-7.72 7.72c-.78.78-.78 2.05 0 2.83L4 21.41c.39.39.9.59 1.41.59.51 0 1.02-.2 1.41-.59l7.78-7.78 2.81-2.81c.8-.78.8-2.07 0-2.86zM5.41 20L4 18.59l7.72-7.72 1.47 1.35L5.41 20z\"/>\n",
              "  </svg>\n",
              "      </button>\n",
              "      \n",
              "  <style>\n",
              "    .colab-df-container {\n",
              "      display:flex;\n",
              "      flex-wrap:wrap;\n",
              "      gap: 12px;\n",
              "    }\n",
              "\n",
              "    .colab-df-convert {\n",
              "      background-color: #E8F0FE;\n",
              "      border: none;\n",
              "      border-radius: 50%;\n",
              "      cursor: pointer;\n",
              "      display: none;\n",
              "      fill: #1967D2;\n",
              "      height: 32px;\n",
              "      padding: 0 0 0 0;\n",
              "      width: 32px;\n",
              "    }\n",
              "\n",
              "    .colab-df-convert:hover {\n",
              "      background-color: #E2EBFA;\n",
              "      box-shadow: 0px 1px 2px rgba(60, 64, 67, 0.3), 0px 1px 3px 1px rgba(60, 64, 67, 0.15);\n",
              "      fill: #174EA6;\n",
              "    }\n",
              "\n",
              "    [theme=dark] .colab-df-convert {\n",
              "      background-color: #3B4455;\n",
              "      fill: #D2E3FC;\n",
              "    }\n",
              "\n",
              "    [theme=dark] .colab-df-convert:hover {\n",
              "      background-color: #434B5C;\n",
              "      box-shadow: 0px 1px 3px 1px rgba(0, 0, 0, 0.15);\n",
              "      filter: drop-shadow(0px 1px 2px rgba(0, 0, 0, 0.3));\n",
              "      fill: #FFFFFF;\n",
              "    }\n",
              "  </style>\n",
              "\n",
              "      <script>\n",
              "        const buttonEl =\n",
              "          document.querySelector('#df-c3dcbcbd-3973-4c45-bbcd-861817fe1ba0 button.colab-df-convert');\n",
              "        buttonEl.style.display =\n",
              "          google.colab.kernel.accessAllowed ? 'block' : 'none';\n",
              "\n",
              "        async function convertToInteractive(key) {\n",
              "          const element = document.querySelector('#df-c3dcbcbd-3973-4c45-bbcd-861817fe1ba0');\n",
              "          const dataTable =\n",
              "            await google.colab.kernel.invokeFunction('convertToInteractive',\n",
              "                                                     [key], {});\n",
              "          if (!dataTable) return;\n",
              "\n",
              "          const docLinkHtml = 'Like what you see? Visit the ' +\n",
              "            '<a target=\"_blank\" href=https://colab.research.google.com/notebooks/data_table.ipynb>data table notebook</a>'\n",
              "            + ' to learn more about interactive tables.';\n",
              "          element.innerHTML = '';\n",
              "          dataTable['output_type'] = 'display_data';\n",
              "          await google.colab.output.renderOutput(dataTable, element);\n",
              "          const docLink = document.createElement('div');\n",
              "          docLink.innerHTML = docLinkHtml;\n",
              "          element.appendChild(docLink);\n",
              "        }\n",
              "      </script>\n",
              "    </div>\n",
              "  </div>\n",
              "  "
            ]
          },
          "metadata": {},
          "execution_count": 17
        }
      ]
    },
    {
      "cell_type": "markdown",
      "source": [
        "# Splitting the dataset into the Training set and Test set"
      ],
      "metadata": {
        "id": "MqNfaNcXYJkN"
      }
    },
    {
      "cell_type": "code",
      "source": [
        "from sklearn.model_selection import train_test_split\n",
        "X_train, X_test, y_train, y_test = train_test_split(X, y, test_size = 0.2, random_state = 0)"
      ],
      "metadata": {
        "id": "GCkTdpCEW6iR"
      },
      "execution_count": null,
      "outputs": []
    },
    {
      "cell_type": "markdown",
      "source": [
        "# Feature Scaling"
      ],
      "metadata": {
        "id": "1pxccBbjYS2v"
      }
    },
    {
      "cell_type": "code",
      "source": [
        "from sklearn.preprocessing import StandardScaler\n",
        "sc = StandardScaler()\n",
        "X_train_Scaler = sc.fit_transform(X_train)\n",
        "X_test_Scaler = sc.transform(X_test)"
      ],
      "metadata": {
        "id": "TmnquXdBX9bL"
      },
      "execution_count": null,
      "outputs": []
    },
    {
      "cell_type": "markdown",
      "source": [
        "#Dimensionality Reduction"
      ],
      "metadata": {
        "id": "g-MZ7yrLrwlh"
      }
    },
    {
      "cell_type": "code",
      "source": [
        "from sklearn.decomposition import PCA"
      ],
      "metadata": {
        "id": "9UdTLe9kryKf"
      },
      "execution_count": null,
      "outputs": []
    },
    {
      "cell_type": "code",
      "source": [
        "#pca = PCA(n_components = None)"
      ],
      "metadata": {
        "id": "u-m7Q1x-sStr"
      },
      "execution_count": null,
      "outputs": []
    },
    {
      "cell_type": "code",
      "source": [
        "#X_train_Scaler = pca.fit_transform(X_train_Scaler)\n",
        "#X_test_Scaler = pca.transform(X_test_Scaler)\n",
        "#explained_variance = pca.explained_variance_ratio_\n",
        "#print(explained_variance)"
      ],
      "metadata": {
        "id": "Gjpm5Npos7u8"
      },
      "execution_count": null,
      "outputs": []
    },
    {
      "cell_type": "markdown",
      "source": [
        "不適合使用pca ，由於各特徵貢獻類似\n",
        "測試後發現準確率不會增加\n",
        "\n"
      ],
      "metadata": {
        "id": "BSrhBEYHwMeQ"
      }
    },
    {
      "cell_type": "code",
      "source": [
        "#pca = PCA(n_components = 9)"
      ],
      "metadata": {
        "id": "F1KzwICEwbB6"
      },
      "execution_count": null,
      "outputs": []
    },
    {
      "cell_type": "code",
      "source": [
        "#X_train_Scaler = pca.fit_transform(X_train_Scaler)\n",
        "#X_test_Scaler = pca.transform(X_test_Scaler)\n",
        "#explained_variance = pca.explained_variance_ratio_\n",
        "#print(explained_variance)"
      ],
      "metadata": {
        "id": "t--EzhBVwk23"
      },
      "execution_count": null,
      "outputs": []
    },
    {
      "cell_type": "markdown",
      "source": [
        "#Machine Learning"
      ],
      "metadata": {
        "id": "rwbwx167ZJij"
      }
    },
    {
      "cell_type": "code",
      "source": [
        "from sklearn import metrics"
      ],
      "metadata": {
        "id": "KS_Erkk7aQMO"
      },
      "execution_count": null,
      "outputs": []
    },
    {
      "cell_type": "code",
      "source": [
        "#KNN\n",
        "from sklearn.neighbors import KNeighborsClassifier\n",
        "knn = KNeighborsClassifier(n_neighbors=10)\n",
        "knn.fit(X_train_Scaler, y_train)\n",
        "knnpred = knn.predict(X_test_Scaler)\n",
        "cnf_matrix = metrics.confusion_matrix(y_test, knnpred)\n",
        "print(cnf_matrix)\n",
        "print(\"Accuracy:\",metrics.accuracy_score(y_test, knnpred))"
      ],
      "metadata": {
        "colab": {
          "base_uri": "https://localhost:8080/"
        },
        "id": "PvF1wRELZ64G",
        "outputId": "3618c012-9920-4e96-e78c-d657981ed336"
      },
      "execution_count": null,
      "outputs": [
        {
          "output_type": "stream",
          "name": "stdout",
          "text": [
            "[[1547   48]\n",
            " [ 268  137]]\n",
            "Accuracy: 0.842\n"
          ]
        }
      ]
    },
    {
      "cell_type": "code",
      "source": [
        "#SVC \n",
        "from sklearn.svm import SVC\n",
        "svc= SVC(kernel = 'sigmoid')\n",
        "svc.fit(X_train_Scaler, np.ravel(y_train,order='C'))\n",
        "svcpred = svc.predict(X_test_Scaler)\n",
        "cnf_matrix = metrics.confusion_matrix(y_test, svcpred)\n",
        "print(cnf_matrix)\n",
        "print(\"Accuracy:\",metrics.accuracy_score(y_test, svcpred))"
      ],
      "metadata": {
        "colab": {
          "base_uri": "https://localhost:8080/"
        },
        "id": "odKI_o_6avwa",
        "outputId": "c5e67b1a-17e1-4b91-febd-a8c6b3e023d7"
      },
      "execution_count": null,
      "outputs": [
        {
          "output_type": "stream",
          "name": "stdout",
          "text": [
            "[[1276  319]\n",
            " [ 312   93]]\n",
            "Accuracy: 0.6845\n"
          ]
        }
      ]
    },
    {
      "cell_type": "code",
      "source": [
        "#Naive \n",
        "from sklearn.naive_bayes import GaussianNB\n",
        "gaussiannb= GaussianNB()\n",
        "gaussiannb.fit(X_train_Scaler, np.ravel(y_train,order='C'))\n",
        "gaussiannbpred = gaussiannb.predict(X_test_Scaler)\n",
        "cnf_matrix = metrics.confusion_matrix(y_test, gaussiannbpred)\n",
        "print(cnf_matrix)\n",
        "print(\"Accuracy:\",metrics.accuracy_score(y_test, gaussiannbpred))"
      ],
      "metadata": {
        "colab": {
          "base_uri": "https://localhost:8080/"
        },
        "id": "u3iVR0-La7kU",
        "outputId": "26678afb-98a1-4869-d926-6823b0e228ad"
      },
      "execution_count": null,
      "outputs": [
        {
          "output_type": "stream",
          "name": "stdout",
          "text": [
            "[[1499   96]\n",
            " [ 245  160]]\n",
            "Accuracy: 0.8295\n"
          ]
        }
      ]
    },
    {
      "cell_type": "code",
      "source": [
        "#Decision Tree\n",
        "from sklearn import metrics\n",
        "from sklearn import tree\n",
        "from sklearn.tree import DecisionTreeClassifier\n",
        "\n",
        "dtree = DecisionTreeClassifier(criterion='gini',max_depth=3) #criterion = entopy, gini\n",
        "dtree.fit(X_train, np.ravel(y_train,order='C'))\n",
        "dtreepred = dtree.predict(X_test)\n",
        "cnf_matrix = metrics.confusion_matrix(y_test, dtreepred)\n",
        "print(cnf_matrix)\n",
        "print(\"Accuracy:\",metrics.accuracy_score(y_test, dtreepred))"
      ],
      "metadata": {
        "colab": {
          "base_uri": "https://localhost:8080/"
        },
        "id": "SJ-xJxRcbESY",
        "outputId": "9701a5fd-ea42-497a-eab8-a612cd684cde"
      },
      "execution_count": null,
      "outputs": [
        {
          "output_type": "stream",
          "name": "stdout",
          "text": [
            "[[1576   19]\n",
            " [ 296  109]]\n",
            "Accuracy: 0.8425\n"
          ]
        }
      ]
    },
    {
      "cell_type": "code",
      "source": [
        "X.head()"
      ],
      "metadata": {
        "colab": {
          "base_uri": "https://localhost:8080/",
          "height": 206
        },
        "id": "IKqZ2dc_oxLa",
        "outputId": "2b622389-cf21-4b01-f0b7-d860a622845b"
      },
      "execution_count": null,
      "outputs": [
        {
          "output_type": "execute_result",
          "data": {
            "text/plain": [
              "   CreditScore  Gender  Age  Tenure    Balance  NumOfProducts  HasCrCard  \\\n",
              "0          619       0   42       2       0.00              1          1   \n",
              "1          608       0   41       1   83807.86              1          0   \n",
              "2          502       0   42       8  159660.80              3          1   \n",
              "3          699       0   39       1       0.00              2          0   \n",
              "4          850       0   43       2  125510.82              1          1   \n",
              "\n",
              "   IsActiveMember  EstimatedSalary  Geography_Germany  Geography_Spain  \n",
              "0               1        101348.88                  0                0  \n",
              "1               1        112542.58                  0                1  \n",
              "2               0        113931.57                  0                0  \n",
              "3               0         93826.63                  0                0  \n",
              "4               1         79084.10                  0                1  "
            ],
            "text/html": [
              "\n",
              "  <div id=\"df-e9218c30-85dc-4629-ad48-b1f073913aef\">\n",
              "    <div class=\"colab-df-container\">\n",
              "      <div>\n",
              "<style scoped>\n",
              "    .dataframe tbody tr th:only-of-type {\n",
              "        vertical-align: middle;\n",
              "    }\n",
              "\n",
              "    .dataframe tbody tr th {\n",
              "        vertical-align: top;\n",
              "    }\n",
              "\n",
              "    .dataframe thead th {\n",
              "        text-align: right;\n",
              "    }\n",
              "</style>\n",
              "<table border=\"1\" class=\"dataframe\">\n",
              "  <thead>\n",
              "    <tr style=\"text-align: right;\">\n",
              "      <th></th>\n",
              "      <th>CreditScore</th>\n",
              "      <th>Gender</th>\n",
              "      <th>Age</th>\n",
              "      <th>Tenure</th>\n",
              "      <th>Balance</th>\n",
              "      <th>NumOfProducts</th>\n",
              "      <th>HasCrCard</th>\n",
              "      <th>IsActiveMember</th>\n",
              "      <th>EstimatedSalary</th>\n",
              "      <th>Geography_Germany</th>\n",
              "      <th>Geography_Spain</th>\n",
              "    </tr>\n",
              "  </thead>\n",
              "  <tbody>\n",
              "    <tr>\n",
              "      <th>0</th>\n",
              "      <td>619</td>\n",
              "      <td>0</td>\n",
              "      <td>42</td>\n",
              "      <td>2</td>\n",
              "      <td>0.00</td>\n",
              "      <td>1</td>\n",
              "      <td>1</td>\n",
              "      <td>1</td>\n",
              "      <td>101348.88</td>\n",
              "      <td>0</td>\n",
              "      <td>0</td>\n",
              "    </tr>\n",
              "    <tr>\n",
              "      <th>1</th>\n",
              "      <td>608</td>\n",
              "      <td>0</td>\n",
              "      <td>41</td>\n",
              "      <td>1</td>\n",
              "      <td>83807.86</td>\n",
              "      <td>1</td>\n",
              "      <td>0</td>\n",
              "      <td>1</td>\n",
              "      <td>112542.58</td>\n",
              "      <td>0</td>\n",
              "      <td>1</td>\n",
              "    </tr>\n",
              "    <tr>\n",
              "      <th>2</th>\n",
              "      <td>502</td>\n",
              "      <td>0</td>\n",
              "      <td>42</td>\n",
              "      <td>8</td>\n",
              "      <td>159660.80</td>\n",
              "      <td>3</td>\n",
              "      <td>1</td>\n",
              "      <td>0</td>\n",
              "      <td>113931.57</td>\n",
              "      <td>0</td>\n",
              "      <td>0</td>\n",
              "    </tr>\n",
              "    <tr>\n",
              "      <th>3</th>\n",
              "      <td>699</td>\n",
              "      <td>0</td>\n",
              "      <td>39</td>\n",
              "      <td>1</td>\n",
              "      <td>0.00</td>\n",
              "      <td>2</td>\n",
              "      <td>0</td>\n",
              "      <td>0</td>\n",
              "      <td>93826.63</td>\n",
              "      <td>0</td>\n",
              "      <td>0</td>\n",
              "    </tr>\n",
              "    <tr>\n",
              "      <th>4</th>\n",
              "      <td>850</td>\n",
              "      <td>0</td>\n",
              "      <td>43</td>\n",
              "      <td>2</td>\n",
              "      <td>125510.82</td>\n",
              "      <td>1</td>\n",
              "      <td>1</td>\n",
              "      <td>1</td>\n",
              "      <td>79084.10</td>\n",
              "      <td>0</td>\n",
              "      <td>1</td>\n",
              "    </tr>\n",
              "  </tbody>\n",
              "</table>\n",
              "</div>\n",
              "      <button class=\"colab-df-convert\" onclick=\"convertToInteractive('df-e9218c30-85dc-4629-ad48-b1f073913aef')\"\n",
              "              title=\"Convert this dataframe to an interactive table.\"\n",
              "              style=\"display:none;\">\n",
              "        \n",
              "  <svg xmlns=\"http://www.w3.org/2000/svg\" height=\"24px\"viewBox=\"0 0 24 24\"\n",
              "       width=\"24px\">\n",
              "    <path d=\"M0 0h24v24H0V0z\" fill=\"none\"/>\n",
              "    <path d=\"M18.56 5.44l.94 2.06.94-2.06 2.06-.94-2.06-.94-.94-2.06-.94 2.06-2.06.94zm-11 1L8.5 8.5l.94-2.06 2.06-.94-2.06-.94L8.5 2.5l-.94 2.06-2.06.94zm10 10l.94 2.06.94-2.06 2.06-.94-2.06-.94-.94-2.06-.94 2.06-2.06.94z\"/><path d=\"M17.41 7.96l-1.37-1.37c-.4-.4-.92-.59-1.43-.59-.52 0-1.04.2-1.43.59L10.3 9.45l-7.72 7.72c-.78.78-.78 2.05 0 2.83L4 21.41c.39.39.9.59 1.41.59.51 0 1.02-.2 1.41-.59l7.78-7.78 2.81-2.81c.8-.78.8-2.07 0-2.86zM5.41 20L4 18.59l7.72-7.72 1.47 1.35L5.41 20z\"/>\n",
              "  </svg>\n",
              "      </button>\n",
              "      \n",
              "  <style>\n",
              "    .colab-df-container {\n",
              "      display:flex;\n",
              "      flex-wrap:wrap;\n",
              "      gap: 12px;\n",
              "    }\n",
              "\n",
              "    .colab-df-convert {\n",
              "      background-color: #E8F0FE;\n",
              "      border: none;\n",
              "      border-radius: 50%;\n",
              "      cursor: pointer;\n",
              "      display: none;\n",
              "      fill: #1967D2;\n",
              "      height: 32px;\n",
              "      padding: 0 0 0 0;\n",
              "      width: 32px;\n",
              "    }\n",
              "\n",
              "    .colab-df-convert:hover {\n",
              "      background-color: #E2EBFA;\n",
              "      box-shadow: 0px 1px 2px rgba(60, 64, 67, 0.3), 0px 1px 3px 1px rgba(60, 64, 67, 0.15);\n",
              "      fill: #174EA6;\n",
              "    }\n",
              "\n",
              "    [theme=dark] .colab-df-convert {\n",
              "      background-color: #3B4455;\n",
              "      fill: #D2E3FC;\n",
              "    }\n",
              "\n",
              "    [theme=dark] .colab-df-convert:hover {\n",
              "      background-color: #434B5C;\n",
              "      box-shadow: 0px 1px 3px 1px rgba(0, 0, 0, 0.15);\n",
              "      filter: drop-shadow(0px 1px 2px rgba(0, 0, 0, 0.3));\n",
              "      fill: #FFFFFF;\n",
              "    }\n",
              "  </style>\n",
              "\n",
              "      <script>\n",
              "        const buttonEl =\n",
              "          document.querySelector('#df-e9218c30-85dc-4629-ad48-b1f073913aef button.colab-df-convert');\n",
              "        buttonEl.style.display =\n",
              "          google.colab.kernel.accessAllowed ? 'block' : 'none';\n",
              "\n",
              "        async function convertToInteractive(key) {\n",
              "          const element = document.querySelector('#df-e9218c30-85dc-4629-ad48-b1f073913aef');\n",
              "          const dataTable =\n",
              "            await google.colab.kernel.invokeFunction('convertToInteractive',\n",
              "                                                     [key], {});\n",
              "          if (!dataTable) return;\n",
              "\n",
              "          const docLinkHtml = 'Like what you see? Visit the ' +\n",
              "            '<a target=\"_blank\" href=https://colab.research.google.com/notebooks/data_table.ipynb>data table notebook</a>'\n",
              "            + ' to learn more about interactive tables.';\n",
              "          element.innerHTML = '';\n",
              "          dataTable['output_type'] = 'display_data';\n",
              "          await google.colab.output.renderOutput(dataTable, element);\n",
              "          const docLink = document.createElement('div');\n",
              "          docLink.innerHTML = docLinkHtml;\n",
              "          element.appendChild(docLink);\n",
              "        }\n",
              "      </script>\n",
              "    </div>\n",
              "  </div>\n",
              "  "
            ]
          },
          "metadata": {},
          "execution_count": 30
        }
      ]
    },
    {
      "cell_type": "markdown",
      "source": [
        "解決nd.array columns命名問題>只能用PD命名\n",
        "\n"
      ],
      "metadata": {
        "id": "yGmTnoHtc5-Q"
      }
    },
    {
      "cell_type": "code",
      "source": [
        "from pydotplus import graph_from_dot_data \n",
        "from sklearn.tree import export_graphviz\n",
        "\n",
        "dtree_data = export_graphviz(dtree, \n",
        "  out_file=None,filled=True, rounded=True,\n",
        "  class_names=['Stay', 'Leave'],\n",
        "  feature_names=X.columns,\n",
        "  )\n",
        "graph = graph_from_dot_data(dtree_data) \n",
        "graph.write_png('tree.png')\n"
      ],
      "metadata": {
        "colab": {
          "base_uri": "https://localhost:8080/"
        },
        "id": "hOFmvIdybNOA",
        "outputId": "51441c2c-d880-47f1-a47f-38fe096dc05b"
      },
      "execution_count": null,
      "outputs": [
        {
          "output_type": "execute_result",
          "data": {
            "text/plain": [
              "True"
            ]
          },
          "metadata": {},
          "execution_count": 31
        }
      ]
    },
    {
      "cell_type": "code",
      "source": [
        "#Random Forest\n",
        "\n",
        "from sklearn.ensemble import RandomForestClassifier\n",
        "rfc = RandomForestClassifier(n_estimators = 200)#criterion = entopy,gini\n",
        "rfc.fit(X_train, np.ravel(y_train,order='C'))\n",
        "rfcpred = rfc.predict(X_test)\n",
        "cnf_matrix = metrics.confusion_matrix(y_test, rfcpred)\n",
        "print(cnf_matrix)\n",
        "print(\"Accuracy:\",metrics.accuracy_score(y_test, rfcpred))"
      ],
      "metadata": {
        "colab": {
          "base_uri": "https://localhost:8080/"
        },
        "id": "kd2mdLiNbkyG",
        "outputId": "2f7db149-dcdf-4059-84b4-c192126ab67e"
      },
      "execution_count": null,
      "outputs": [
        {
          "output_type": "stream",
          "name": "stdout",
          "text": [
            "[[1526   69]\n",
            " [ 197  208]]\n",
            "Accuracy: 0.867\n"
          ]
        }
      ]
    },
    {
      "cell_type": "markdown",
      "source": [
        "未了解的機器學習算法"
      ],
      "metadata": {
        "id": "IcQ0Kq02b6eU"
      }
    },
    {
      "cell_type": "code",
      "source": [
        "#Ada Boosting\n",
        "from sklearn.ensemble import AdaBoostClassifier\n",
        "abcl = AdaBoostClassifier(base_estimator=dtree, n_estimators=60)\n",
        "abcl=abcl.fit(X_train,np.ravel(y_train,order='C'))\n",
        "abcl_pred=abcl.predict(X_test)\n",
        "cnf_matrix = metrics.confusion_matrix(y_test, abcl_pred)\n",
        "print(cnf_matrix)\n",
        "print(\"Accuracy:\",metrics.accuracy_score(y_test, abcl_pred))"
      ],
      "metadata": {
        "colab": {
          "base_uri": "https://localhost:8080/"
        },
        "id": "jX5pyhDGbz6O",
        "outputId": "91781178-de82-40e1-cb49-26ce083e7b2c"
      },
      "execution_count": null,
      "outputs": [
        {
          "output_type": "stream",
          "name": "stdout",
          "text": [
            "[[1453  142]\n",
            " [ 197  208]]\n",
            "Accuracy: 0.8305\n"
          ]
        }
      ]
    },
    {
      "cell_type": "code",
      "source": [
        "#Bagging classfier\n",
        "\n",
        "from sklearn.ensemble import BaggingClassifier\n",
        "bgcl = BaggingClassifier(n_estimators=60, max_samples=.7 , oob_score=True)\n",
        "\n",
        "bgcl.fit(X_train, y_train)\n",
        "# 預測\n",
        "test_y_predicted = bgcl.predict(X_test)\n",
        "\n",
        "# 績效\n",
        "accuracy = metrics.accuracy_score(y_test, test_y_predicted)\n",
        "print(accuracy)"
      ],
      "metadata": {
        "colab": {
          "base_uri": "https://localhost:8080/"
        },
        "id": "7XeeWF_9b-8a",
        "outputId": "a57680f8-42d2-43b9-9c93-2d9cd0b2ab41"
      },
      "execution_count": null,
      "outputs": [
        {
          "output_type": "stream",
          "name": "stdout",
          "text": [
            "0.864\n"
          ]
        }
      ]
    },
    {
      "cell_type": "code",
      "source": [
        "#Gradient boosting\n",
        "\n",
        "from sklearn.ensemble import GradientBoostingClassifier\n",
        "gbcl = GradientBoostingClassifier(n_estimators = 50, learning_rate = 0.09, max_depth=5)\n",
        "gbcl = gbcl.fit(X_train,np.ravel(y_train,order='C'))\n",
        "test_pred = gbcl.predict(X_test)\n",
        "cnf_matrix = metrics.confusion_matrix(y_test, test_pred)\n",
        "print(cnf_matrix)\n",
        "print(\"Accuracy:\",metrics.accuracy_score(y_test, test_pred))"
      ],
      "metadata": {
        "colab": {
          "base_uri": "https://localhost:8080/"
        },
        "id": "tMcXpU_ZcFcz",
        "outputId": "0fa8fb4a-2331-4913-f035-7b0b5f4db206"
      },
      "execution_count": null,
      "outputs": [
        {
          "output_type": "stream",
          "name": "stdout",
          "text": [
            "[[1527   68]\n",
            " [ 189  216]]\n",
            "Accuracy: 0.8715\n"
          ]
        }
      ]
    },
    {
      "cell_type": "code",
      "source": [
        "#XGBooosting\n",
        "from xgboost import XGBClassifier \n",
        "xgb = XGBClassifier()\n",
        "xgb.fit(X_train, np.ravel(y_train,order='C'))\n",
        "xgbprd = xgb.predict(X_test)\n",
        "cnf_matrix = metrics.confusion_matrix(y_test, xgbprd)\n",
        "print(cnf_matrix)\n",
        "print(\"Accuracy:\",metrics.accuracy_score(y_test, xgbprd))"
      ],
      "metadata": {
        "colab": {
          "base_uri": "https://localhost:8080/"
        },
        "id": "FRjl7WHRcJ4x",
        "outputId": "d170afbe-b246-42a3-fb87-46526e13ed65"
      },
      "execution_count": null,
      "outputs": [
        {
          "output_type": "stream",
          "name": "stdout",
          "text": [
            "[[1521   74]\n",
            " [ 197  208]]\n",
            "Accuracy: 0.8645\n"
          ]
        }
      ]
    },
    {
      "cell_type": "code",
      "source": [
        "from sklearn.metrics import classification_report\n",
        "\n",
        "print('KNN Reports\\n',classification_report(y_test, knnpred))\n",
        "print('SVC Reports\\n',classification_report(y_test, svcpred))\n",
        "print('Naive BayesReports\\n',classification_report(y_test, gaussiannbpred))\n",
        "print('Decision Tree Reports\\n',classification_report(y_test, dtreepred))\n",
        "print('Ada Boosting\\n',classification_report(y_test, abcl_pred))\n",
        "print('Random Forests Reports\\n',classification_report(y_test, rfcpred))\n",
        "print('Bagging Clasifier',bgcl.oob_score_) \n",
        "print('Gradient Boosting',classification_report(y_test, test_pred))\n",
        "print('XGBoosting\\n',classification_report(y_test, xgbprd))\n",
        "\n",
        "print(y_test)\n",
        "#以KNN為例\n",
        "#support : 意思為支持，也就是說真實結果中有多少是該類別。那麼有1595個為0類別，405個為1類別。\n",
        "#precision：精度=正確預測的個數(TP)/被預測正確的個數(TP+FP)；人話也就是模型預測的結果中有多少是預測正確的\n",
        "#recall:召回率=正確預測的個數(TP)/預測個數(TP+FN)；人話也就是某個類別測試集中的總量，有多少樣本預測正確了；\n",
        "#f1-score:F1 = 2*精度*召回率/(精度+召回率)\n",
        "#macro avg：每個類別評估指標未加權的平均值，比如準確率的 macro avg，(0.85+0.74)/2\n",
        "#weighted avg：加權平均，就是測試集中樣本量大的，我認爲它更重要，給他設置的權重大點。 準確率:0.85*(1595/2000)+0.74*(405/2000)"
      ],
      "metadata": {
        "colab": {
          "base_uri": "https://localhost:8080/"
        },
        "id": "ZQf7pqdJcMFy",
        "outputId": "4ce309d7-6f64-4e53-c5cc-877ddd151f35"
      },
      "execution_count": null,
      "outputs": [
        {
          "output_type": "stream",
          "name": "stdout",
          "text": [
            "KNN Reports\n",
            "               precision    recall  f1-score   support\n",
            "\n",
            "           0       0.85      0.97      0.91      1595\n",
            "           1       0.74      0.34      0.46       405\n",
            "\n",
            "    accuracy                           0.84      2000\n",
            "   macro avg       0.80      0.65      0.69      2000\n",
            "weighted avg       0.83      0.84      0.82      2000\n",
            "\n",
            "SVC Reports\n",
            "               precision    recall  f1-score   support\n",
            "\n",
            "           0       0.80      0.80      0.80      1595\n",
            "           1       0.23      0.23      0.23       405\n",
            "\n",
            "    accuracy                           0.68      2000\n",
            "   macro avg       0.51      0.51      0.51      2000\n",
            "weighted avg       0.69      0.68      0.69      2000\n",
            "\n",
            "Naive BayesReports\n",
            "               precision    recall  f1-score   support\n",
            "\n",
            "           0       0.86      0.94      0.90      1595\n",
            "           1       0.62      0.40      0.48       405\n",
            "\n",
            "    accuracy                           0.83      2000\n",
            "   macro avg       0.74      0.67      0.69      2000\n",
            "weighted avg       0.81      0.83      0.81      2000\n",
            "\n",
            "Decision Tree Reports\n",
            "               precision    recall  f1-score   support\n",
            "\n",
            "           0       0.84      0.99      0.91      1595\n",
            "           1       0.85      0.27      0.41       405\n",
            "\n",
            "    accuracy                           0.84      2000\n",
            "   macro avg       0.85      0.63      0.66      2000\n",
            "weighted avg       0.84      0.84      0.81      2000\n",
            "\n",
            "Ada Boosting\n",
            "               precision    recall  f1-score   support\n",
            "\n",
            "           0       0.88      0.91      0.90      1595\n",
            "           1       0.59      0.51      0.55       405\n",
            "\n",
            "    accuracy                           0.83      2000\n",
            "   macro avg       0.74      0.71      0.72      2000\n",
            "weighted avg       0.82      0.83      0.83      2000\n",
            "\n",
            "Random Forests Reports\n",
            "               precision    recall  f1-score   support\n",
            "\n",
            "           0       0.89      0.96      0.92      1595\n",
            "           1       0.75      0.51      0.61       405\n",
            "\n",
            "    accuracy                           0.87      2000\n",
            "   macro avg       0.82      0.74      0.76      2000\n",
            "weighted avg       0.86      0.87      0.86      2000\n",
            "\n",
            "Bagging Clasifier 0.852\n",
            "Gradient Boosting               precision    recall  f1-score   support\n",
            "\n",
            "           0       0.89      0.96      0.92      1595\n",
            "           1       0.76      0.53      0.63       405\n",
            "\n",
            "    accuracy                           0.87      2000\n",
            "   macro avg       0.83      0.75      0.77      2000\n",
            "weighted avg       0.86      0.87      0.86      2000\n",
            "\n",
            "XGBoosting\n",
            "               precision    recall  f1-score   support\n",
            "\n",
            "           0       0.89      0.95      0.92      1595\n",
            "           1       0.74      0.51      0.61       405\n",
            "\n",
            "    accuracy                           0.86      2000\n",
            "   macro avg       0.81      0.73      0.76      2000\n",
            "weighted avg       0.86      0.86      0.85      2000\n",
            "\n",
            "9394    0\n",
            "898     1\n",
            "2398    0\n",
            "5906    0\n",
            "2343    0\n",
            "       ..\n",
            "1037    0\n",
            "2899    0\n",
            "9549    0\n",
            "2740    0\n",
            "6690    0\n",
            "Name: Exited, Length: 2000, dtype: int64\n"
          ]
        }
      ]
    },
    {
      "cell_type": "markdown",
      "source": [
        "# Applying k-Fold Cross Validatio"
      ],
      "metadata": {
        "id": "7U-JiYJ2gRFY"
      }
    },
    {
      "cell_type": "code",
      "source": [
        "from sklearn.model_selection import cross_val_score\n",
        "accuracies = cross_val_score(estimator = xgb, X = X, y = y, cv = 10)\n",
        "print('XGBoosting average accuracies\\n',accuracies.mean())\n",
        "print('XGBoosting standard error\\n',accuracies.std())\n",
        "\n"
      ],
      "metadata": {
        "colab": {
          "base_uri": "https://localhost:8080/"
        },
        "id": "_sVP36MJeU-l",
        "outputId": "4df58316-fc5b-4d90-f3a3-e3a33f26b63e"
      },
      "execution_count": null,
      "outputs": [
        {
          "output_type": "stream",
          "name": "stdout",
          "text": [
            "XGBoosting average accuracies\n",
            " 0.8635999999999999\n",
            "XGBoosting standard error\n",
            " 0.009414881836751864\n"
          ]
        }
      ]
    },
    {
      "cell_type": "markdown",
      "source": [
        "#Artificial Neural Networks"
      ],
      "metadata": {
        "id": "msGg4_fJynOk"
      }
    },
    {
      "cell_type": "code",
      "source": [
        "# Importing the Keras libraries and packages\n",
        "import keras\n",
        "from keras.models import Sequential\n",
        "from keras.layers import Dense"
      ],
      "metadata": {
        "id": "WAlN4Ltfyr4Y"
      },
      "execution_count": null,
      "outputs": []
    },
    {
      "cell_type": "code",
      "source": [
        "# Initialising the ANN\n",
        "classifier = Sequential()"
      ],
      "metadata": {
        "id": "pyXHqW81ytut"
      },
      "execution_count": null,
      "outputs": []
    },
    {
      "cell_type": "code",
      "source": [
        "# Adding the input layer and the first hidden layer\n",
        "classifier.add(Dense(units = 6, kernel_initializer = 'uniform', activation = 'relu', input_dim = 11))\n",
        "#units=6  x=11 y=1 (11+1)/2=6  >> rule of thumb\n",
        "#kernel_initializer = 'uniform' 如何初始化權重\n",
        "#activation = 'relu' 整流線性單位函式（Rectified Linear Unit, ReLU）\n",
        "#input_dim  number of independent variables"
      ],
      "metadata": {
        "id": "5G-hu_9OzEwZ"
      },
      "execution_count": null,
      "outputs": []
    },
    {
      "cell_type": "code",
      "source": [
        "\n",
        "# Adding the second hidden layer\n",
        "classifier.add(Dense(units = 6, kernel_initializer = 'uniform', activation = 'relu'))"
      ],
      "metadata": {
        "id": "XZ_zlAmezGBx"
      },
      "execution_count": null,
      "outputs": []
    },
    {
      "cell_type": "code",
      "source": [
        "# Adding the output layer\n",
        "classifier.add(Dense(units = 1, kernel_initializer = 'uniform', activation = 'sigmoid'))\n",
        "#如果y有三個以上 units就要改成分類結果個數 ex:3、4、5,activation=softmax"
      ],
      "metadata": {
        "id": "0an85y3MzIvm"
      },
      "execution_count": null,
      "outputs": []
    },
    {
      "cell_type": "code",
      "source": [
        "# Compiling the ANN\n",
        "classifier.compile(optimizer = 'adam', loss = 'binary_crossentropy', metrics = ['accuracy'])\n",
        "#optimizer = 'adam'  Minimize the loss function\n",
        "#loss = 'binary_crossentropy' 損失函數 / 3個分類結果以上categorical_crossentropy\n",
        "#metrics = ['accuracy'] 性能評估器"
      ],
      "metadata": {
        "id": "1LvHW0n1zK25"
      },
      "execution_count": null,
      "outputs": []
    },
    {
      "cell_type": "code",
      "source": [
        "# Fitting the ANN to the Training set\n",
        "classifier.fit(X_train, y_train, batch_size = 10, epochs = 100)\n",
        "#batch_size 一組數據內包含多少觀察數據\n",
        "#epochs 多少期的訓練\n",
        "# Part 3 - Making the predictions and evaluating the model"
      ],
      "metadata": {
        "colab": {
          "base_uri": "https://localhost:8080/"
        },
        "id": "WjfN_sWqzTRl",
        "outputId": "2e8b3a8c-42c2-4c78-86bd-dd4be130c7fe"
      },
      "execution_count": null,
      "outputs": [
        {
          "output_type": "stream",
          "name": "stdout",
          "text": [
            "Epoch 1/100\n",
            "800/800 [==============================] - 2s 2ms/step - loss: 0.6187 - accuracy: 0.7874\n",
            "Epoch 2/100\n",
            "800/800 [==============================] - 1s 2ms/step - loss: 0.5287 - accuracy: 0.7960\n",
            "Epoch 3/100\n",
            "800/800 [==============================] - 1s 2ms/step - loss: 0.5173 - accuracy: 0.7960\n",
            "Epoch 4/100\n",
            "800/800 [==============================] - 1s 2ms/step - loss: 0.5132 - accuracy: 0.7960\n",
            "Epoch 5/100\n",
            "800/800 [==============================] - 1s 2ms/step - loss: 0.5080 - accuracy: 0.7960\n",
            "Epoch 6/100\n",
            "800/800 [==============================] - 1s 2ms/step - loss: 0.5068 - accuracy: 0.7960\n",
            "Epoch 7/100\n",
            "800/800 [==============================] - 1s 2ms/step - loss: 0.5052 - accuracy: 0.7960\n",
            "Epoch 8/100\n",
            "800/800 [==============================] - 1s 2ms/step - loss: 0.5049 - accuracy: 0.7960\n",
            "Epoch 9/100\n",
            "800/800 [==============================] - 1s 2ms/step - loss: 0.5015 - accuracy: 0.7960\n",
            "Epoch 10/100\n",
            "800/800 [==============================] - 1s 2ms/step - loss: 0.5009 - accuracy: 0.7960\n",
            "Epoch 11/100\n",
            "800/800 [==============================] - 1s 2ms/step - loss: 0.5010 - accuracy: 0.7960\n",
            "Epoch 12/100\n",
            "800/800 [==============================] - 1s 2ms/step - loss: 0.5012 - accuracy: 0.7960\n",
            "Epoch 13/100\n",
            "800/800 [==============================] - 1s 2ms/step - loss: 0.5004 - accuracy: 0.7960\n",
            "Epoch 14/100\n",
            "800/800 [==============================] - 1s 2ms/step - loss: 0.5019 - accuracy: 0.7960\n",
            "Epoch 15/100\n",
            "800/800 [==============================] - 1s 2ms/step - loss: 0.5067 - accuracy: 0.7960\n",
            "Epoch 16/100\n",
            "800/800 [==============================] - 1s 2ms/step - loss: 0.5054 - accuracy: 0.7960\n",
            "Epoch 17/100\n",
            "800/800 [==============================] - 1s 2ms/step - loss: 0.5017 - accuracy: 0.7960\n",
            "Epoch 18/100\n",
            "800/800 [==============================] - 1s 2ms/step - loss: 0.5045 - accuracy: 0.7960\n",
            "Epoch 19/100\n",
            "800/800 [==============================] - 1s 2ms/step - loss: 0.5051 - accuracy: 0.7960\n",
            "Epoch 20/100\n",
            "800/800 [==============================] - 1s 2ms/step - loss: 0.5053 - accuracy: 0.7960\n",
            "Epoch 21/100\n",
            "800/800 [==============================] - 1s 2ms/step - loss: 0.5047 - accuracy: 0.7960\n",
            "Epoch 22/100\n",
            "800/800 [==============================] - 1s 2ms/step - loss: 0.5016 - accuracy: 0.7960\n",
            "Epoch 23/100\n",
            "800/800 [==============================] - 1s 2ms/step - loss: 0.5043 - accuracy: 0.7959\n",
            "Epoch 24/100\n",
            "800/800 [==============================] - 1s 2ms/step - loss: 0.5035 - accuracy: 0.7960\n",
            "Epoch 25/100\n",
            "800/800 [==============================] - 1s 2ms/step - loss: 0.5024 - accuracy: 0.7960\n",
            "Epoch 26/100\n",
            "800/800 [==============================] - 1s 2ms/step - loss: 0.5012 - accuracy: 0.7960\n",
            "Epoch 27/100\n",
            "800/800 [==============================] - 1s 2ms/step - loss: 0.5005 - accuracy: 0.7960\n",
            "Epoch 28/100\n",
            "800/800 [==============================] - 1s 2ms/step - loss: 0.4998 - accuracy: 0.7960\n",
            "Epoch 29/100\n",
            "800/800 [==============================] - 1s 1ms/step - loss: 0.4994 - accuracy: 0.7960\n",
            "Epoch 30/100\n",
            "800/800 [==============================] - 1s 2ms/step - loss: 0.4989 - accuracy: 0.7960\n",
            "Epoch 31/100\n",
            "800/800 [==============================] - 1s 2ms/step - loss: 0.4987 - accuracy: 0.7960\n",
            "Epoch 32/100\n",
            "800/800 [==============================] - 1s 2ms/step - loss: 0.4986 - accuracy: 0.7960\n",
            "Epoch 33/100\n",
            "800/800 [==============================] - 1s 2ms/step - loss: 0.4986 - accuracy: 0.7960\n",
            "Epoch 34/100\n",
            "800/800 [==============================] - 1s 2ms/step - loss: 0.4985 - accuracy: 0.7960\n",
            "Epoch 35/100\n",
            "800/800 [==============================] - 1s 2ms/step - loss: 0.4985 - accuracy: 0.7960\n",
            "Epoch 36/100\n",
            "800/800 [==============================] - 1s 2ms/step - loss: 0.4984 - accuracy: 0.7960\n",
            "Epoch 37/100\n",
            "800/800 [==============================] - 1s 2ms/step - loss: 0.4984 - accuracy: 0.7960\n",
            "Epoch 38/100\n",
            "800/800 [==============================] - 1s 2ms/step - loss: 0.4985 - accuracy: 0.7960\n",
            "Epoch 39/100\n",
            "800/800 [==============================] - 1s 2ms/step - loss: 0.4984 - accuracy: 0.7960\n",
            "Epoch 40/100\n",
            "800/800 [==============================] - 1s 2ms/step - loss: 0.4983 - accuracy: 0.7960\n",
            "Epoch 41/100\n",
            "800/800 [==============================] - 1s 2ms/step - loss: 0.4984 - accuracy: 0.7960\n",
            "Epoch 42/100\n",
            "800/800 [==============================] - 1s 2ms/step - loss: 0.4984 - accuracy: 0.7960\n",
            "Epoch 43/100\n",
            "800/800 [==============================] - 1s 2ms/step - loss: 0.4986 - accuracy: 0.7960\n",
            "Epoch 44/100\n",
            "800/800 [==============================] - 1s 2ms/step - loss: 0.4983 - accuracy: 0.7960\n",
            "Epoch 45/100\n",
            "800/800 [==============================] - 1s 2ms/step - loss: 0.4991 - accuracy: 0.7960\n",
            "Epoch 46/100\n",
            "800/800 [==============================] - 1s 2ms/step - loss: 0.4985 - accuracy: 0.7960\n",
            "Epoch 47/100\n",
            "800/800 [==============================] - 1s 2ms/step - loss: 0.4984 - accuracy: 0.7960\n",
            "Epoch 48/100\n",
            "800/800 [==============================] - 1s 2ms/step - loss: 0.4984 - accuracy: 0.7960\n",
            "Epoch 49/100\n",
            "800/800 [==============================] - 1s 2ms/step - loss: 0.4982 - accuracy: 0.7960\n",
            "Epoch 50/100\n",
            "800/800 [==============================] - 1s 2ms/step - loss: 0.4983 - accuracy: 0.7960\n",
            "Epoch 51/100\n",
            "800/800 [==============================] - 1s 2ms/step - loss: 0.4984 - accuracy: 0.7960\n",
            "Epoch 52/100\n",
            "800/800 [==============================] - 1s 2ms/step - loss: 0.4983 - accuracy: 0.7960\n",
            "Epoch 53/100\n",
            "800/800 [==============================] - 1s 2ms/step - loss: 0.4983 - accuracy: 0.7960\n",
            "Epoch 54/100\n",
            "800/800 [==============================] - 1s 2ms/step - loss: 0.4984 - accuracy: 0.7960\n",
            "Epoch 55/100\n",
            "800/800 [==============================] - 1s 2ms/step - loss: 0.4983 - accuracy: 0.7960\n",
            "Epoch 56/100\n",
            "800/800 [==============================] - 1s 2ms/step - loss: 0.4983 - accuracy: 0.7960\n",
            "Epoch 57/100\n",
            "800/800 [==============================] - 1s 2ms/step - loss: 0.4983 - accuracy: 0.7960\n",
            "Epoch 58/100\n",
            "800/800 [==============================] - 1s 2ms/step - loss: 0.4983 - accuracy: 0.7960\n",
            "Epoch 59/100\n",
            "800/800 [==============================] - 1s 2ms/step - loss: 0.4983 - accuracy: 0.7960\n",
            "Epoch 60/100\n",
            "800/800 [==============================] - 2s 2ms/step - loss: 0.4983 - accuracy: 0.7960\n",
            "Epoch 61/100\n",
            "800/800 [==============================] - 2s 3ms/step - loss: 0.4984 - accuracy: 0.7960\n",
            "Epoch 62/100\n",
            "800/800 [==============================] - 1s 2ms/step - loss: 0.4983 - accuracy: 0.7960\n",
            "Epoch 63/100\n",
            "800/800 [==============================] - 1s 2ms/step - loss: 0.4983 - accuracy: 0.7960\n",
            "Epoch 64/100\n",
            "800/800 [==============================] - 1s 2ms/step - loss: 0.4983 - accuracy: 0.7960\n",
            "Epoch 65/100\n",
            "800/800 [==============================] - 1s 2ms/step - loss: 0.4983 - accuracy: 0.7960\n",
            "Epoch 66/100\n",
            "800/800 [==============================] - 1s 2ms/step - loss: 0.4984 - accuracy: 0.7960\n",
            "Epoch 67/100\n",
            "800/800 [==============================] - 1s 2ms/step - loss: 0.4983 - accuracy: 0.7960\n",
            "Epoch 68/100\n",
            "800/800 [==============================] - 1s 2ms/step - loss: 0.4983 - accuracy: 0.7960\n",
            "Epoch 69/100\n",
            "800/800 [==============================] - 2s 2ms/step - loss: 0.4982 - accuracy: 0.7960\n",
            "Epoch 70/100\n",
            "800/800 [==============================] - 2s 3ms/step - loss: 0.4984 - accuracy: 0.7960\n",
            "Epoch 71/100\n",
            "800/800 [==============================] - 1s 2ms/step - loss: 0.4983 - accuracy: 0.7960\n",
            "Epoch 72/100\n",
            "800/800 [==============================] - 1s 2ms/step - loss: 0.4984 - accuracy: 0.7960\n",
            "Epoch 73/100\n",
            "800/800 [==============================] - 1s 2ms/step - loss: 0.4983 - accuracy: 0.7960\n",
            "Epoch 74/100\n",
            "800/800 [==============================] - 1s 2ms/step - loss: 0.4983 - accuracy: 0.7960\n",
            "Epoch 75/100\n",
            "800/800 [==============================] - 1s 2ms/step - loss: 0.4983 - accuracy: 0.7960\n",
            "Epoch 76/100\n",
            "800/800 [==============================] - 1s 2ms/step - loss: 0.4983 - accuracy: 0.7960\n",
            "Epoch 77/100\n",
            "800/800 [==============================] - 1s 2ms/step - loss: 0.4983 - accuracy: 0.7960\n",
            "Epoch 78/100\n",
            "800/800 [==============================] - 1s 2ms/step - loss: 0.4983 - accuracy: 0.7960\n",
            "Epoch 79/100\n",
            "800/800 [==============================] - 1s 2ms/step - loss: 0.4983 - accuracy: 0.7960\n",
            "Epoch 80/100\n",
            "800/800 [==============================] - 1s 1ms/step - loss: 0.4983 - accuracy: 0.7960\n",
            "Epoch 81/100\n",
            "800/800 [==============================] - 1s 2ms/step - loss: 0.4984 - accuracy: 0.7960\n",
            "Epoch 82/100\n",
            "800/800 [==============================] - 1s 2ms/step - loss: 0.4983 - accuracy: 0.7960\n",
            "Epoch 83/100\n",
            "800/800 [==============================] - 1s 2ms/step - loss: 0.4983 - accuracy: 0.7960\n",
            "Epoch 84/100\n",
            "800/800 [==============================] - 1s 2ms/step - loss: 0.4983 - accuracy: 0.7960\n",
            "Epoch 85/100\n",
            "800/800 [==============================] - 1s 2ms/step - loss: 0.4983 - accuracy: 0.7960\n",
            "Epoch 86/100\n",
            "800/800 [==============================] - 1s 2ms/step - loss: 0.4983 - accuracy: 0.7960\n",
            "Epoch 87/100\n",
            "800/800 [==============================] - 1s 2ms/step - loss: 0.4983 - accuracy: 0.7960\n",
            "Epoch 88/100\n",
            "800/800 [==============================] - 1s 2ms/step - loss: 0.4983 - accuracy: 0.7960\n",
            "Epoch 89/100\n",
            "800/800 [==============================] - 1s 2ms/step - loss: 0.4983 - accuracy: 0.7960\n",
            "Epoch 90/100\n",
            "800/800 [==============================] - 1s 2ms/step - loss: 0.4983 - accuracy: 0.7960\n",
            "Epoch 91/100\n",
            "800/800 [==============================] - 1s 2ms/step - loss: 0.4983 - accuracy: 0.7960\n",
            "Epoch 92/100\n",
            "800/800 [==============================] - 1s 2ms/step - loss: 0.4983 - accuracy: 0.7960\n",
            "Epoch 93/100\n",
            "800/800 [==============================] - 1s 2ms/step - loss: 0.4984 - accuracy: 0.7960\n",
            "Epoch 94/100\n",
            "800/800 [==============================] - 1s 2ms/step - loss: 0.4983 - accuracy: 0.7960\n",
            "Epoch 95/100\n",
            "800/800 [==============================] - 1s 2ms/step - loss: 0.4983 - accuracy: 0.7960\n",
            "Epoch 96/100\n",
            "800/800 [==============================] - 1s 2ms/step - loss: 0.4983 - accuracy: 0.7960\n",
            "Epoch 97/100\n",
            "800/800 [==============================] - 1s 2ms/step - loss: 0.4984 - accuracy: 0.7960\n",
            "Epoch 98/100\n",
            "800/800 [==============================] - 1s 2ms/step - loss: 0.4983 - accuracy: 0.7960\n",
            "Epoch 99/100\n",
            "800/800 [==============================] - 1s 2ms/step - loss: 0.4983 - accuracy: 0.7960\n",
            "Epoch 100/100\n",
            "800/800 [==============================] - 1s 2ms/step - loss: 0.4983 - accuracy: 0.7960\n"
          ]
        },
        {
          "output_type": "execute_result",
          "data": {
            "text/plain": [
              "<keras.callbacks.History at 0x7fba174ad790>"
            ]
          },
          "metadata": {},
          "execution_count": 45
        }
      ]
    },
    {
      "cell_type": "code",
      "source": [
        "# Predicting the Test set results\n",
        "y_pred = classifier.predict(X_test)\n",
        "y_pred = (y_pred > 0.5)\n",
        "#將y_pred變成bool"
      ],
      "metadata": {
        "colab": {
          "base_uri": "https://localhost:8080/"
        },
        "id": "aBQCACd6zUhZ",
        "outputId": "df4fd56d-2adb-4391-d6eb-864df7a68844"
      },
      "execution_count": null,
      "outputs": [
        {
          "output_type": "stream",
          "name": "stdout",
          "text": [
            "63/63 [==============================] - 0s 1ms/step\n"
          ]
        }
      ]
    },
    {
      "cell_type": "code",
      "source": [
        "# Making the Confusion Matrix\n",
        "from sklearn.metrics import confusion_matrix\n",
        "cm = confusion_matrix(y_test, y_pred)"
      ],
      "metadata": {
        "id": "3eNU2EYRzVTu"
      },
      "execution_count": null,
      "outputs": []
    },
    {
      "cell_type": "code",
      "source": [
        "# Method 2\n",
        "from sklearn.metrics import classification_report\n",
        "from sklearn import metrics\n",
        "cnf_matrix = metrics.confusion_matrix(y_test, y_pred)\n",
        "print(\"Accuracy:\",metrics.accuracy_score(y_test, y_pred))\n",
        "print(\"report:\\n\",classification_report(y_test,y_pred))\n"
      ],
      "metadata": {
        "colab": {
          "base_uri": "https://localhost:8080/"
        },
        "id": "k8WFEDcSzWUd",
        "outputId": "3895aede-b8b2-4233-bec7-ae97c723625b"
      },
      "execution_count": null,
      "outputs": [
        {
          "output_type": "stream",
          "name": "stdout",
          "text": [
            "Accuracy: 0.7975\n",
            "report:\n",
            "               precision    recall  f1-score   support\n",
            "\n",
            "           0       0.80      1.00      0.89      1595\n",
            "           1       0.00      0.00      0.00       405\n",
            "\n",
            "    accuracy                           0.80      2000\n",
            "   macro avg       0.40      0.50      0.44      2000\n",
            "weighted avg       0.64      0.80      0.71      2000\n",
            "\n"
          ]
        },
        {
          "output_type": "stream",
          "name": "stderr",
          "text": [
            "/usr/local/lib/python3.8/dist-packages/sklearn/metrics/_classification.py:1318: UndefinedMetricWarning: Precision and F-score are ill-defined and being set to 0.0 in labels with no predicted samples. Use `zero_division` parameter to control this behavior.\n",
            "  _warn_prf(average, modifier, msg_start, len(result))\n",
            "/usr/local/lib/python3.8/dist-packages/sklearn/metrics/_classification.py:1318: UndefinedMetricWarning: Precision and F-score are ill-defined and being set to 0.0 in labels with no predicted samples. Use `zero_division` parameter to control this behavior.\n",
            "  _warn_prf(average, modifier, msg_start, len(result))\n",
            "/usr/local/lib/python3.8/dist-packages/sklearn/metrics/_classification.py:1318: UndefinedMetricWarning: Precision and F-score are ill-defined and being set to 0.0 in labels with no predicted samples. Use `zero_division` parameter to control this behavior.\n",
            "  _warn_prf(average, modifier, msg_start, len(result))\n"
          ]
        }
      ]
    }
  ]
}